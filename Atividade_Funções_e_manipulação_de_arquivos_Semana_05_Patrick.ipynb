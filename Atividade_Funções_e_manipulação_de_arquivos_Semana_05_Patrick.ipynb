{
  "nbformat": 4,
  "nbformat_minor": 0,
  "metadata": {
    "colab": {
      "provenance": [],
      "include_colab_link": true
    },
    "kernelspec": {
      "name": "python3",
      "display_name": "Python 3"
    },
    "language_info": {
      "name": "python"
    }
  },
  "cells": [
    {
      "cell_type": "markdown",
      "metadata": {
        "id": "view-in-github",
        "colab_type": "text"
      },
      "source": [
        "<a href=\"https://colab.research.google.com/github/PatrickSFlores/ExerciciosGrowdev/blob/main/Atividade_Fun%C3%A7%C3%B5es_e_manipula%C3%A7%C3%A3o_de_arquivos_Semana_05_Patrick.ipynb\" target=\"_parent\"><img src=\"https://colab.research.google.com/assets/colab-badge.svg\" alt=\"Open In Colab\"/></a>"
      ]
    },
    {
      "cell_type": "markdown",
      "source": [
        "![Growdev](https://www.growdev.com.br/assets/images/logo_growdev.png)"
      ],
      "metadata": {
        "id": "v8pFWwviib2C"
      }
    },
    {
      "cell_type": "markdown",
      "source": [
        "![Formação Engenharia de Dados](https://d335luupugsy2.cloudfront.net/cms/files/524558/1707226566/$occu5m8t1op)"
      ],
      "metadata": {
        "id": "6Tkl4_HxifXZ"
      }
    },
    {
      "cell_type": "markdown",
      "source": [
        "Este material tem como objetivo incentivar a prática dos conteúdos estudados até o momento, e a pesquisa. Tenha em consideração que o exercício foi pensado para incentivar a prática dos conteúdos estudados até então, porém aprender a pesquisar faz parte do processo de aprendizagem.\n",
        "\n",
        "Fique tranquilo, faça os exercícios com calma, e boa prática!\n"
      ],
      "metadata": {
        "id": "ty7Bzyl1i9bN"
      }
    },
    {
      "cell_type": "markdown",
      "source": [
        "#Orientações:\n",
        "\n",
        " - Faça uma copia deste arquivo\n",
        " - Após concluir os exercicios, suba seu exercicio para o GitHub e compartilhe o link no **google** Classroom\n"
      ],
      "metadata": {
        "id": "DU5-yCQwjx3V"
      }
    },
    {
      "cell_type": "markdown",
      "source": [
        "#Exercícios"
      ],
      "metadata": {
        "id": "EzT810tnlmfE"
      }
    },
    {
      "cell_type": "markdown",
      "source": [
        "#Funções"
      ],
      "metadata": {
        "id": "rDqBAimhSq_C"
      }
    },
    {
      "cell_type": "markdown",
      "source": [
        "Escreva uma função chamada soma que recebe dois números como parâmetros e retorna a soma deles"
      ],
      "metadata": {
        "id": "AkBqdNST8bCY"
      }
    },
    {
      "cell_type": "code",
      "source": [
        "def soma(num1, num2):\n",
        "    return num1 + num2\n",
        "\n",
        "numero1 = 10\n",
        "numero2 = 5\n",
        "\n",
        "resultado = soma(numero1, numero2)\n",
        "\n",
        "\n",
        "print(f'{numero1} + {numero2} = {resultado}')"
      ],
      "metadata": {
        "id": "J427Pi2p8THC"
      },
      "execution_count": null,
      "outputs": []
    },
    {
      "cell_type": "markdown",
      "source": [
        "Escreva uma função chamada verificar_paridade que recebe um número como parâmetro e retorna True se for par e False se for ímpar."
      ],
      "metadata": {
        "id": "NAa3MBAM830W"
      }
    },
    {
      "cell_type": "code",
      "source": [
        "def verificar_paridade(numero):\n",
        "\n",
        "    return numero % 2 == 0\n",
        "\n",
        "numero1 = 22\n",
        "\n",
        "resultado1 = verificar_paridade(numero1)\n",
        "\n",
        "print(f'O número {numero1} é par? {resultado1}')\n",
        "\n",
        "numero2 = 37\n",
        "\n",
        "resultado2 = verificar_paridade(numero2)\n",
        "\n",
        "print(f'O número {numero2} é par? {resultado2}')\n"
      ],
      "metadata": {
        "id": "CRlV5NE82kpE",
        "outputId": "8611cd14-52a0-4794-ce8f-8475cef926c6",
        "colab": {
          "base_uri": "https://localhost:8080/"
        }
      },
      "execution_count": 8,
      "outputs": [
        {
          "output_type": "stream",
          "name": "stdout",
          "text": [
            "O número 22 é par? True\n",
            "O número 37 é par? False\n"
          ]
        }
      ]
    },
    {
      "cell_type": "markdown",
      "source": [
        "Escreva uma função chamada verificar_palindromo que recebe uma string como parâmetro e retorna True se for um palíndromo (uma palavra que é igual se lida da esquerda para a direita e vice-versa) e False caso contrário."
      ],
      "metadata": {
        "id": "S7Rh1p4N8_dp"
      }
    },
    {
      "cell_type": "code",
      "source": [
        "def verificar_palindromo(palavra):\n",
        "\n",
        "    palavra = palavra.replace(\" \", \"\").lower()\n",
        "\n",
        "    return palavra == palavra[::-1]\n",
        "\n",
        "palavra1 = \"ana\"\n",
        "resultado1 = verificar_palindromo(palavra1)\n",
        "print(f\"A palavra '{palavra1}' é um palíndromo? {resultado1}\")\n",
        "\n",
        "palavra2 = \"python\"\n",
        "resultado2 = verificar_palindromo(palavra2)\n",
        "print(f\"A palavra '{palavra2}' é um palíndromo? {resultado2}\")\n"
      ],
      "metadata": {
        "id": "jY3rGEWc9Gb5"
      },
      "execution_count": null,
      "outputs": []
    },
    {
      "cell_type": "markdown",
      "source": [
        "##Desafio listas e funções:"
      ],
      "metadata": {
        "id": "suLU217H9G51"
      }
    },
    {
      "cell_type": "markdown",
      "source": [
        "Crie uma função que representa o jogo batalha naval.\n",
        "\n",
        "Dentro da função crie uma estrutura bidimensional utilizando listas com sublistas para representar um tabuleiro (1 lista com 20 elementos e cada elemento é uma lista de 20 elementos, tabuleiro 20x20). Cada posição irá armazenar 1 valor numérico que significa:\n",
        "- 0 - Água\n",
        "- 1 - Navio\n",
        "\n",
        "Para cada posição escolha esses valores aleatoriamente, respeitando a regra de que não podem existir mais de 20 navios no tabuleiro.\n",
        "\n",
        "Após os valores serem distribuídos, o programa deve pedir ao usuário uma posição do tabuleiro e informar se ele acertou um navio ou água e repetir o procedimento até que o usuário derrote todos os navios ou chegue ao limite de 35 tentativas.\n",
        "\n"
      ],
      "metadata": {
        "id": "zv3Edx_T-TF5"
      }
    },
    {
      "cell_type": "code",
      "source": [
        "import random\n",
        "\n",
        "tabuleiro = [[0 for _ in range(20)] for _ in range(20)]\n",
        "\n",
        "num_navios = 0\n",
        "\n",
        "while num_navios < 20:\n",
        "    x = random.randint(0, 19)\n",
        "    y = random.randint(0, 19)\n",
        "    if tabuleiro[y][x] == 0:\n",
        "        tabuleiro[y][x] = 1\n",
        "        num_navios += 1\n",
        "\n",
        "tentativas = 0\n",
        "\n",
        "navios_afundados = 0\n",
        "\n",
        "while tentativas < 10 and navios_afundados < 5:\n",
        "    x = int(input(\"Digite a coordenada x (0-19): \"))\n",
        "    y = int(input(\"Digite a coordenada y (0-19): \"))\n",
        "\n",
        "    if x < 0 or x > 19 or y < 0 or y > 19:\n",
        "        print(\"Coordenadas inválidas. Por favor, digite números entre 0 e 19.\")\n",
        "        continue\n",
        "\n",
        "    if tabuleiro[y][x] == 1:\n",
        "        print(\"Você acertou um navio!\")\n",
        "        navios_afundados += 1\n",
        "    else:\n",
        "        print(\"Água, errou!\")\n",
        "\n",
        "    tentativas += 1\n",
        "\n",
        "print(\"\\nPosições dos navios:\")\n",
        "for y in range(20):\n",
        "    for x in range(20):\n",
        "        if tabuleiro[y][x] == 1:\n",
        "            print(f\"Navio na posição ({x}, {y})\")\n",
        "\n",
        "if navios_afundados == 5:\n",
        "    print(\"\\nParabéns! Você afundou 5 navios!\")\n",
        "else:\n",
        "    print(\"\\nFim de jogo! Você perdeu.\")\n",
        "\n",
        "print(f\"Você teve {tentativas} tentativas e acertou {navios_afundados} navios.\")\n",
        "\n",
        "print(\"Tabuleiro:\")\n",
        "for linha in tabuleiro:\n",
        "    for valor in linha:\n",
        "        print(valor, end=' ')\n",
        "    print()\n"
      ],
      "metadata": {
        "id": "BhHWwg54-H1j"
      },
      "execution_count": null,
      "outputs": []
    },
    {
      "cell_type": "markdown",
      "source": [
        "Modifique o programa anterior para exibir as seguintes estatísticas.\n",
        "- Acertos em água\n",
        "- Acertos em Navios\n",
        "- Porcentagem de acertos em água\n",
        "- Porcentagem de acertos em Navios\n",
        "- Acertos ininterruptos (maior quantidade de acertos em sequência)"
      ],
      "metadata": {
        "id": "WUXJN6Dg_GET"
      }
    },
    {
      "cell_type": "code",
      "source": [],
      "metadata": {
        "id": "N5itlDvd_Hbi"
      },
      "execution_count": null,
      "outputs": []
    },
    {
      "cell_type": "markdown",
      "source": [
        "#Manipulação de arquivos: Conteudo será trabalhado na aula do dia 08/05"
      ],
      "metadata": {
        "id": "ffEKF4Kx5eQu"
      }
    },
    {
      "cell_type": "markdown",
      "source": [
        "UUtilize o arquivo ‘compras.csv’ como base para resolver os seguintes exercícios.  disponivel em: https://drive.google.com/file/d/1cqqr7kWuBYYJxJ8W_-KHmcZHs6sfV_is/view"
      ],
      "metadata": {
        "id": "IrQvRhQM5oj6"
      }
    },
    {
      "cell_type": "markdown",
      "source": [
        "Utilize as seguintes faixas etárias nos exercícios em que for necessário.\n",
        "- Jovens, 18 a 25 anos\n",
        "- Adultos, 26 a 59 anos\n",
        "- Idosos, igual ou maior que 60 anos\n"
      ],
      "metadata": {
        "id": "J8g6sYrl3Xjg"
      }
    },
    {
      "cell_type": "markdown",
      "source": [
        "Procure quem foi a pessoa que mais gastou?"
      ],
      "metadata": {
        "id": "apGpARF-3nW9"
      }
    },
    {
      "cell_type": "code",
      "source": [],
      "metadata": {
        "id": "EPX_3cU33XOh"
      },
      "execution_count": null,
      "outputs": []
    },
    {
      "cell_type": "markdown",
      "source": [
        "Busque quais são os anos da base de dados?"
      ],
      "metadata": {
        "id": "3PBqAffp3o9I"
      }
    },
    {
      "cell_type": "code",
      "source": [],
      "metadata": {
        "id": "lqgX2B6x5fLc"
      },
      "execution_count": null,
      "outputs": []
    },
    {
      "cell_type": "markdown",
      "source": [
        "Qual a porcentagem de homens e mulheres na base de dados?"
      ],
      "metadata": {
        "id": "R2DKj08Z5tqJ"
      }
    },
    {
      "cell_type": "code",
      "source": [],
      "metadata": {
        "id": "3wZDjRn03xB0"
      },
      "execution_count": null,
      "outputs": []
    },
    {
      "cell_type": "markdown",
      "source": [
        "Qual foi o gasto por ano?"
      ],
      "metadata": {
        "id": "Nou_jojr3ztM"
      }
    },
    {
      "cell_type": "code",
      "source": [],
      "metadata": {
        "id": "hjBuBCDb30YI"
      },
      "execution_count": null,
      "outputs": []
    },
    {
      "cell_type": "markdown",
      "source": [
        "Qual foi o ano com maior gasto?"
      ],
      "metadata": {
        "id": "vgN3teMQ32pg"
      }
    },
    {
      "cell_type": "code",
      "source": [],
      "metadata": {
        "id": "JmN_ZHBV35ss"
      },
      "execution_count": null,
      "outputs": []
    },
    {
      "cell_type": "markdown",
      "source": [
        "Utilizando as faixas etárias, diga quantas pessoas há em cada faixa?"
      ],
      "metadata": {
        "id": "V_y9EX0p34-E"
      }
    },
    {
      "cell_type": "code",
      "source": [],
      "metadata": {
        "id": "ukkjPSE738r8"
      },
      "execution_count": null,
      "outputs": []
    },
    {
      "cell_type": "markdown",
      "source": [
        "Qual é a faixa etária que mais gasta?"
      ],
      "metadata": {
        "id": "_7qmp-1y36Ac"
      }
    },
    {
      "cell_type": "code",
      "source": [],
      "metadata": {
        "id": "O0_Wt4I838V0"
      },
      "execution_count": null,
      "outputs": []
    },
    {
      "cell_type": "markdown",
      "source": [
        "A opção de débito é mais utilizada entre homens ou mulheres?"
      ],
      "metadata": {
        "id": "L_EUiizw3-jM"
      }
    },
    {
      "cell_type": "code",
      "source": [],
      "metadata": {
        "id": "dIKB7PXj3_DE"
      },
      "execution_count": null,
      "outputs": []
    },
    {
      "cell_type": "markdown",
      "source": [
        "Qual o sobrenome que mais aparece na base de dados?"
      ],
      "metadata": {
        "id": "jOMpl3Th4Bkm"
      }
    },
    {
      "cell_type": "code",
      "source": [],
      "metadata": {
        "id": "LDFe_62s4B_Q"
      },
      "execution_count": null,
      "outputs": []
    },
    {
      "cell_type": "markdown",
      "source": [
        "Qual foi o ano em que os homens mais usaram o crédito?"
      ],
      "metadata": {
        "id": "Q7VS9K_Q4ECM"
      }
    },
    {
      "cell_type": "code",
      "source": [],
      "metadata": {
        "id": "5H60b3n64Ee0"
      },
      "execution_count": null,
      "outputs": []
    },
    {
      "cell_type": "markdown",
      "source": [
        "Qual opção de pagamento é mais utilizada em cada faixa etária?"
      ],
      "metadata": {
        "id": "ebnmp5KD4GPw"
      }
    },
    {
      "cell_type": "code",
      "source": [],
      "metadata": {
        "id": "NumXkC5p4H7s"
      },
      "execution_count": null,
      "outputs": []
    },
    {
      "cell_type": "markdown",
      "source": [
        "Qual o valor gasto em compras por jovens do ano de 2010 até 2015?"
      ],
      "metadata": {
        "id": "jRKhI6Dv4IQJ"
      }
    },
    {
      "cell_type": "code",
      "source": [],
      "metadata": {
        "id": "6SXstcF54Itk"
      },
      "execution_count": null,
      "outputs": []
    }
  ]
}