{
  "nbformat": 4,
  "nbformat_minor": 0,
  "metadata": {
    "colab": {
      "provenance": [],
      "include_colab_link": true
    },
    "kernelspec": {
      "name": "python3",
      "display_name": "Python 3"
    },
    "language_info": {
      "name": "python"
    }
  },
  "cells": [
    {
      "cell_type": "markdown",
      "metadata": {
        "id": "view-in-github",
        "colab_type": "text"
      },
      "source": [
        "<a href=\"https://colab.research.google.com/github/PatrickSFlores/ExerciciosGrowdev/blob/main/Atividade_Fun%C3%A7%C3%B5es_e_manipula%C3%A7%C3%A3o_de_arquivos_Semana_05_Patrick.ipynb\" target=\"_parent\"><img src=\"https://colab.research.google.com/assets/colab-badge.svg\" alt=\"Open In Colab\"/></a>"
      ]
    },
    {
      "cell_type": "markdown",
      "source": [
        "![Growdev](https://www.growdev.com.br/assets/images/logo_growdev.png)"
      ],
      "metadata": {
        "id": "v8pFWwviib2C"
      }
    },
    {
      "cell_type": "markdown",
      "source": [
        "![Formação Engenharia de Dados](https://d335luupugsy2.cloudfront.net/cms/files/524558/1707226566/$occu5m8t1op)"
      ],
      "metadata": {
        "id": "6Tkl4_HxifXZ"
      }
    },
    {
      "cell_type": "markdown",
      "source": [
        "Este material tem como objetivo incentivar a prática dos conteúdos estudados até o momento, e a pesquisa. Tenha em consideração que o exercício foi pensado para incentivar a prática dos conteúdos estudados até então, porém aprender a pesquisar faz parte do processo de aprendizagem.\n",
        "\n",
        "Fique tranquilo, faça os exercícios com calma, e boa prática!\n"
      ],
      "metadata": {
        "id": "ty7Bzyl1i9bN"
      }
    },
    {
      "cell_type": "markdown",
      "source": [
        "#Orientações:\n",
        "\n",
        " - Faça uma copia deste arquivo\n",
        " - Após concluir os exercicios, suba seu exercicio para o GitHub e compartilhe o link no **google** Classroom\n"
      ],
      "metadata": {
        "id": "DU5-yCQwjx3V"
      }
    },
    {
      "cell_type": "markdown",
      "source": [
        "#Exercícios"
      ],
      "metadata": {
        "id": "EzT810tnlmfE"
      }
    },
    {
      "cell_type": "markdown",
      "source": [
        "#Funções"
      ],
      "metadata": {
        "id": "rDqBAimhSq_C"
      }
    },
    {
      "cell_type": "markdown",
      "source": [
        "Escreva uma função chamada soma que recebe dois números como parâmetros e retorna a soma deles"
      ],
      "metadata": {
        "id": "AkBqdNST8bCY"
      }
    },
    {
      "cell_type": "code",
      "source": [
        "def soma(num1, num2):\n",
        "    return num1 + num2\n",
        "\n",
        "numero1 = 10\n",
        "numero2 = 5\n",
        "\n",
        "resultado = soma(numero1, numero2)\n",
        "\n",
        "\n",
        "print(f'{numero1} + {numero2} = {resultado}')"
      ],
      "metadata": {
        "id": "J427Pi2p8THC"
      },
      "execution_count": null,
      "outputs": []
    },
    {
      "cell_type": "markdown",
      "source": [
        "Escreva uma função chamada verificar_paridade que recebe um número como parâmetro e retorna True se for par e False se for ímpar."
      ],
      "metadata": {
        "id": "NAa3MBAM830W"
      }
    },
    {
      "cell_type": "code",
      "source": [
        "def verificar_paridade(numero):\n",
        "\n",
        "    return numero % 2 == 0\n",
        "\n",
        "numero1 = 22\n",
        "\n",
        "resultado1 = verificar_paridade(numero1)\n",
        "\n",
        "print(f'O número {numero1} é par? {resultado1}')\n",
        "\n",
        "numero2 = 37\n",
        "\n",
        "resultado2 = verificar_paridade(numero2)\n",
        "\n",
        "print(f'O número {numero2} é par? {resultado2}')\n"
      ],
      "metadata": {
        "id": "CRlV5NE82kpE",
        "outputId": "8611cd14-52a0-4794-ce8f-8475cef926c6",
        "colab": {
          "base_uri": "https://localhost:8080/"
        }
      },
      "execution_count": null,
      "outputs": [
        {
          "output_type": "stream",
          "name": "stdout",
          "text": [
            "O número 22 é par? True\n",
            "O número 37 é par? False\n"
          ]
        }
      ]
    },
    {
      "cell_type": "markdown",
      "source": [
        "Escreva uma função chamada verificar_palindromo que recebe uma string como parâmetro e retorna True se for um palíndromo (uma palavra que é igual se lida da esquerda para a direita e vice-versa) e False caso contrário."
      ],
      "metadata": {
        "id": "S7Rh1p4N8_dp"
      }
    },
    {
      "cell_type": "code",
      "source": [
        "def verificar_palindromo(palavra):\n",
        "\n",
        "    palavra = palavra.replace(\" \", \"\").lower()\n",
        "\n",
        "    return palavra == palavra[::-1]\n",
        "\n",
        "palavra1 = \"ana\"\n",
        "resultado1 = verificar_palindromo(palavra1)\n",
        "print(f\"A palavra '{palavra1}' é um palíndromo? {resultado1}\")\n",
        "\n",
        "palavra2 = \"python\"\n",
        "resultado2 = verificar_palindromo(palavra2)\n",
        "print(f\"A palavra '{palavra2}' é um palíndromo? {resultado2}\")\n"
      ],
      "metadata": {
        "id": "jY3rGEWc9Gb5"
      },
      "execution_count": null,
      "outputs": []
    },
    {
      "cell_type": "markdown",
      "source": [
        "##Desafio listas e funções:"
      ],
      "metadata": {
        "id": "suLU217H9G51"
      }
    },
    {
      "cell_type": "markdown",
      "source": [
        "Crie uma função que representa o jogo batalha naval.\n",
        "\n",
        "Dentro da função crie uma estrutura bidimensional utilizando listas com sublistas para representar um tabuleiro (1 lista com 20 elementos e cada elemento é uma lista de 20 elementos, tabuleiro 20x20). Cada posição irá armazenar 1 valor numérico que significa:\n",
        "- 0 - Água\n",
        "- 1 - Navio\n",
        "\n",
        "Para cada posição escolha esses valores aleatoriamente, respeitando a regra de que não podem existir mais de 20 navios no tabuleiro.\n",
        "\n",
        "Após os valores serem distribuídos, o programa deve pedir ao usuário uma posição do tabuleiro e informar se ele acertou um navio ou água e repetir o procedimento até que o usuário derrote todos os navios ou chegue ao limite de 35 tentativas.\n",
        "\n"
      ],
      "metadata": {
        "id": "zv3Edx_T-TF5"
      }
    },
    {
      "cell_type": "code",
      "source": [
        "import random\n",
        "\n",
        "def jogo_batalha_naval():\n",
        "\n",
        "    tabuleiro = [[0 for _ in range(20)] for _ in range(20)]\n",
        "\n",
        "\n",
        "    num_navios = 0\n",
        "    while num_navios < 20:\n",
        "        x = random.randint(0, 19)\n",
        "        y = random.randint(0, 19)\n",
        "        if tabuleiro[y][x] == 0:\n",
        "            tabuleiro[y][x] = 1\n",
        "            num_navios += 1\n",
        "\n",
        "\n",
        "    tentativas                  = 0\n",
        "    navios_afundados            = 0\n",
        "    acertos_agua                = 0\n",
        "    acertos_navios              = 0\n",
        "    acertos_ininterruptos       = 0\n",
        "    maior_acertos_ininterruptos = 0\n",
        "\n",
        "\n",
        "    while tentativas < 10 and navios_afundados < 5:\n",
        "        try:\n",
        "            x = int(input(\"Digite a coordenada x (0-19): \"))\n",
        "            y = int(input(\"Digite a coordenada y (0-19): \"))\n",
        "\n",
        "            if x < 0 or x > 19 or y < 0 or y > 19:\n",
        "                print(\"Coordenadas inválidas. Por favor, digite números entre 0 e 19.\")\n",
        "                continue\n",
        "\n",
        "            if tabuleiro[y][x] == 1:\n",
        "                print(\"Você acertou um navio!\")\n",
        "\n",
        "                navios_afundados += 1\n",
        "                acertos_navios += 1\n",
        "\n",
        "                acertos_ininterruptos += 1\n",
        "                if acertos_ininterruptos > maior_acertos_ininterruptos:\n",
        "                    maior_acertos_ininterruptos = acertos_ininterruptos\n",
        "            else:\n",
        "                print(\"Você errou!\")\n",
        "                acertos_agua += 1\n",
        "                acertos_ininterruptos = 0\n",
        "\n",
        "            tentativas += 1\n",
        "        except ValueError:\n",
        "            print(\"Entrada inválida. Por favor, digite números inteiros.\")\n",
        "\n",
        "\n",
        "    if tentativas > 0:\n",
        "        porcentagem_acertos_agua = (acertos_agua / tentativas) * 100\n",
        "        porcentagem_acertos_navios = (acertos_navios / tentativas) * 100\n",
        "    else:\n",
        "        porcentagem_acertos_agua = 0\n",
        "        porcentagem_acertos_navios = 0\n",
        "\n",
        "\n",
        "    print(\"\\nPosições dos navios:\")\n",
        "    for y in range(20):\n",
        "        for x in range(20):\n",
        "            if tabuleiro[y][x] == 1:\n",
        "                print(f\"Navio na posição ({x}, {y})\")\n",
        "\n",
        "    if navios_afundados == 5:\n",
        "        print(\"\\nParabéns! Você afundou 5 navios!\")\n",
        "    else:\n",
        "        print(\"\\nFim de jogo! Você perdeu.\")\n",
        "\n",
        "    print(f\"Você teve {tentativas} tentativas e acertou {navios_afundados} navios.\")\n",
        "\n",
        "\n",
        "    print(f\"Acertos em água: {acertos_agua}\")\n",
        "    print(f\"Acertos em navios: {acertos_navios}\")\n",
        "    print(f\"Porcentagem de acertos em água: {porcentagem_acertos_agua:.2f}%\")\n",
        "    print(f\"Porcentagem de acertos em navios: {porcentagem_acertos_navios:.2f}%\")\n",
        "    print(f\"Maior quantidade de acertos em sequência: {maior_acertos_ininterruptos}\")\n",
        "\n",
        "\n",
        "    print(\"Tabuleiro:\")\n",
        "    for linha in tabuleiro:\n",
        "        for valor in linha:\n",
        "            print(valor, end=' ')\n",
        "        print()\n",
        "\n",
        "jogo_batalha_naval()"
      ],
      "metadata": {
        "id": "BhHWwg54-H1j"
      },
      "execution_count": null,
      "outputs": []
    },
    {
      "cell_type": "markdown",
      "source": [
        "Modifique o programa anterior para exibir as seguintes estatísticas.\n",
        "- Acertos em água\n",
        "- Acertos em Navios\n",
        "- Porcentagem de acertos em água\n",
        "- Porcentagem de acertos em Navios\n",
        "- Acertos ininterruptos (maior quantidade de acertos em sequência)"
      ],
      "metadata": {
        "id": "WUXJN6Dg_GET"
      }
    },
    {
      "cell_type": "code",
      "source": [],
      "metadata": {
        "id": "N5itlDvd_Hbi"
      },
      "execution_count": null,
      "outputs": []
    },
    {
      "cell_type": "markdown",
      "source": [
        "#Manipulação de arquivos: Conteudo será trabalhado na aula do dia 08/05"
      ],
      "metadata": {
        "id": "ffEKF4Kx5eQu"
      }
    },
    {
      "cell_type": "markdown",
      "source": [
        "UUtilize o arquivo ‘compras.csv’ como base para resolver os seguintes exercícios.  disponivel em: https://drive.google.com/file/d/1cqqr7kWuBYYJxJ8W_-KHmcZHs6sfV_is/view"
      ],
      "metadata": {
        "id": "IrQvRhQM5oj6"
      }
    },
    {
      "cell_type": "markdown",
      "source": [
        "Utilize as seguintes faixas etárias nos exercícios em que for necessário.\n",
        "- Jovens, 18 a 25 anos\n",
        "- Adultos, 26 a 59 anos\n",
        "- Idosos, igual ou maior que 60 anos\n"
      ],
      "metadata": {
        "id": "J8g6sYrl3Xjg"
      }
    },
    {
      "cell_type": "markdown",
      "source": [
        "Procure quem foi a pessoa que mais gastou?"
      ],
      "metadata": {
        "id": "apGpARF-3nW9"
      }
    },
    {
      "cell_type": "code",
      "source": [
        "import pandas as pd\n",
        "\n",
        "url = 'https://raw.githubusercontent.com/PatrickSFlores/ExerciciosGrowdev/main/compras.csv'\n",
        "\n",
        "df = pd.read_csv(url)\n",
        "\n",
        "max_compra = df.loc[df['compra'].idxmax()]\n",
        "\n",
        "print(f\"A pessoa que mais gastou foi {max_compra['nome']} {max_compra['sobrenome']}, com um valor de R${max_compra['compra']}.\")"
      ],
      "metadata": {
        "id": "EPX_3cU33XOh"
      },
      "execution_count": null,
      "outputs": []
    },
    {
      "cell_type": "markdown",
      "source": [
        "Busque quais são os anos da base de dados?"
      ],
      "metadata": {
        "id": "3PBqAffp3o9I"
      }
    },
    {
      "cell_type": "code",
      "source": [
        "import pandas as pd\n",
        "\n",
        "url = 'https://raw.githubusercontent.com/PatrickSFlores/ExerciciosGrowdev/main/compras.csv'\n",
        "\n",
        "df = pd.read_csv(url)\n",
        "\n",
        "anos_unicos = df['ano'].unique()\n",
        "\n",
        "anos_ordenados = sorted(anos_unicos)\n",
        "\n",
        "print(\"Os anos da base de dados são:\")\n",
        "for ano in anos_ordenados:\n",
        "    print(ano)\n"
      ],
      "metadata": {
        "id": "lqgX2B6x5fLc"
      },
      "execution_count": null,
      "outputs": []
    },
    {
      "cell_type": "markdown",
      "source": [
        "Qual a porcentagem de homens e mulheres na base de dados?"
      ],
      "metadata": {
        "id": "R2DKj08Z5tqJ"
      }
    },
    {
      "cell_type": "code",
      "source": [
        "import pandas as pd\n",
        "\n",
        "url = 'https://raw.githubusercontent.com/PatrickSFlores/ExerciciosGrowdev/main/compras.csv'\n",
        "\n",
        "df = pd.read_csv(url)\n",
        "\n",
        "total_registros = len(df)\n",
        "total_homens = df[df['sexo'] == 'M'].shape[0]\n",
        "total_mulheres = df[df['sexo'] == 'F'].shape[0]\n",
        "\n",
        "porcentagem_homens = (total_homens / total_registros) * 100\n",
        "porcentagem_mulheres = (total_mulheres / total_registros) * 100\n",
        "\n",
        "print(f\"A porcentagem de homens é: {porcentagem_homens:.2f}%\")\n",
        "print(f\"A porcentagem de mulheres é: {porcentagem_mulheres:.2f}%\")"
      ],
      "metadata": {
        "id": "3wZDjRn03xB0"
      },
      "execution_count": null,
      "outputs": []
    },
    {
      "cell_type": "markdown",
      "source": [
        "Qual foi o gasto por ano?"
      ],
      "metadata": {
        "id": "Nou_jojr3ztM"
      }
    },
    {
      "cell_type": "code",
      "source": [
        "import pandas as pd\n",
        "\n",
        "url = 'https://raw.githubusercontent.com/PatrickSFlores/ExerciciosGrowdev/main/compras.csv'\n",
        "\n",
        "df = pd.read_csv(url)\n",
        "\n",
        "gasto_por_ano = df.groupby('ano')['compra'].sum()\n",
        "\n",
        "print(gasto_por_ano.to_string())"
      ],
      "metadata": {
        "id": "hjBuBCDb30YI"
      },
      "execution_count": null,
      "outputs": []
    },
    {
      "cell_type": "markdown",
      "source": [
        "Qual foi o ano com maior gasto?"
      ],
      "metadata": {
        "id": "vgN3teMQ32pg"
      }
    },
    {
      "cell_type": "code",
      "source": [
        "import pandas as pd\n",
        "\n",
        "url = 'https://raw.githubusercontent.com/PatrickSFlores/ExerciciosGrowdev/main/compras.csv'\n",
        "\n",
        "df = pd.read_csv(url)\n",
        "\n",
        "gasto_por_ano = df.groupby('ano')['compra'].sum()\n",
        "\n",
        "ano_maior_gasto = gasto_por_ano.idxmax()\n",
        "valor_maior_gasto = gasto_por_ano.max()\n",
        "\n",
        "print(f\"O ano com o maior gasto foi {ano_maior_gasto}, com um valor total de {valor_maior_gasto}.\")\n"
      ],
      "metadata": {
        "id": "JmN_ZHBV35ss"
      },
      "execution_count": null,
      "outputs": []
    },
    {
      "cell_type": "markdown",
      "source": [
        "Utilizando as faixas etárias, diga quantas pessoas há em cada faixa?"
      ],
      "metadata": {
        "id": "V_y9EX0p34-E"
      }
    },
    {
      "cell_type": "code",
      "source": [
        "import pandas as pd\n",
        "\n",
        "\n",
        "url = 'https://raw.githubusercontent.com/PatrickSFlores/ExerciciosGrowdev/main/compras.csv'\n",
        "\n",
        "\n",
        "df = pd.read_csv(url)\n",
        "\n",
        "\n",
        "faixas_etarias = {'Jovens': (18, 25),\n",
        "                  'Adultos': (26, 59),\n",
        "                  'Idosos': (60, float('inf'))\n",
        "                 }\n",
        "\n",
        "def calcular_faixa_etaria(idade):\n",
        "    for faixa, (inicio, fim) in faixas_etarias.items():\n",
        "        if inicio <= idade <= fim:\n",
        "            return faixa\n",
        "\n",
        "df['faixa_etaria'] = df['idade'].apply(calcular_faixa_etaria)\n",
        "\n",
        "pessoas_por_faixa = df['faixa_etaria'].value_counts()\n",
        "\n",
        "print(pessoas_por_faixa.to_string())"
      ],
      "metadata": {
        "id": "ukkjPSE738r8"
      },
      "execution_count": null,
      "outputs": []
    },
    {
      "cell_type": "markdown",
      "source": [
        "Qual é a faixa etária que mais gasta?"
      ],
      "metadata": {
        "id": "_7qmp-1y36Ac"
      }
    },
    {
      "cell_type": "code",
      "source": [
        "import pandas as pd\n",
        "\n",
        "url = 'https://raw.githubusercontent.com/PatrickSFlores/ExerciciosGrowdev/main/compras.csv'\n",
        "\n",
        "df = pd.read_csv(url)\n",
        "\n",
        "faixas_etarias = {'Jovens': (18, 25),\n",
        "                  'Adultos': (26, 59),\n",
        "                  'Idosos': (60, float('inf'))\n",
        "                 }\n",
        "\n",
        "def calcular_faixa_etaria(idade):\n",
        "    for faixa, (inicio, fim) in faixas_etarias.items():\n",
        "        if inicio <= idade <= fim:\n",
        "            return faixa\n",
        "\n",
        "df['faixa_etaria'] = df['idade'].apply(calcular_faixa_etaria)\n",
        "\n",
        "gasto_por_faixa = df.groupby('faixa_etaria')['compra'].sum()\n",
        "\n",
        "faixa_etaria_mais_gasta = gasto_por_faixa.idxmax()\n",
        "valor_gasto_mais_gasta = gasto_por_faixa.max()\n",
        "\n",
        "print(f\"A faixa etária que mais gasta é '{faixa_etaria_mais_gasta}' com um valor total de {valor_gasto_mais_gasta}.\")"
      ],
      "metadata": {
        "id": "O0_Wt4I838V0"
      },
      "execution_count": null,
      "outputs": []
    },
    {
      "cell_type": "markdown",
      "source": [
        "A opção de débito é mais utilizada entre homens ou mulheres?"
      ],
      "metadata": {
        "id": "L_EUiizw3-jM"
      }
    },
    {
      "cell_type": "code",
      "source": [
        "import pandas as pd\n",
        "\n",
        "url = 'https://raw.githubusercontent.com/PatrickSFlores/ExerciciosGrowdev/main/compras.csv'\n",
        "\n",
        "df = pd.read_csv(url)\n",
        "\n",
        "debito_homens = df[(df['sexo'] == 'M') & (df['pagamento'] == 'debito')].shape[0]\n",
        "debito_mulheres = df[(df['sexo'] == 'F') & (df['pagamento'] == 'debito')].shape[0]\n",
        "\n",
        "if debito_homens > debito_mulheres:\n",
        "    print(f\"A opção de débito é mais utilizada entre homens, com um total de {debito_homens}.\")\n",
        "elif debito_homens < debito_mulheres:\n",
        "    print(f\"A opção de débito é mais utilizada entre mulheres, com um total de {debito_mulheres}.\")\n",
        "else:\n",
        "    print(\"A opção de débito é igualmente utilizada entre homens e mulheres.\")\n"
      ],
      "metadata": {
        "id": "dIKB7PXj3_DE"
      },
      "execution_count": null,
      "outputs": []
    },
    {
      "cell_type": "markdown",
      "source": [
        "Qual o sobrenome que mais aparece na base de dados?"
      ],
      "metadata": {
        "id": "jOMpl3Th4Bkm"
      }
    },
    {
      "cell_type": "code",
      "source": [
        "import pandas as pd\n",
        "\n",
        "url = 'https://raw.githubusercontent.com/PatrickSFlores/ExerciciosGrowdev/main/compras.csv'\n",
        "\n",
        "df = pd.read_csv(url)\n",
        "\n",
        "sobrenome_mais_frequente = df['sobrenome'].value_counts().idxmax()\n",
        "\n",
        "print(f\"O sobrenome que mais aparece é: {sobrenome_mais_frequente}\")\n"
      ],
      "metadata": {
        "id": "LDFe_62s4B_Q"
      },
      "execution_count": null,
      "outputs": []
    },
    {
      "cell_type": "markdown",
      "source": [
        "Qual foi o ano em que os homens mais usaram o crédito?"
      ],
      "metadata": {
        "id": "Q7VS9K_Q4ECM"
      }
    },
    {
      "cell_type": "code",
      "source": [
        "import pandas as pd\n",
        "\n",
        "url = 'https://raw.githubusercontent.com/PatrickSFlores/ExerciciosGrowdev/main/compras.csv'\n",
        "\n",
        "df = pd.read_csv(url)\n",
        "\n",
        "homens_credito = df[(df['sexo'] == 'M') & (df['pagamento'] == 'credito')]\n",
        "\n",
        "transacoes_por_ano = homens_credito.groupby('ano').size()\n",
        "\n",
        "ano_mais_usado = transacoes_por_ano.idxmax()\n",
        "\n",
        "print(f\"O ano em que os homens mais usaram a opção de crédito foi: {ano_mais_usado}\")"
      ],
      "metadata": {
        "id": "5H60b3n64Ee0",
        "outputId": "c2140249-64b6-439f-e1be-a4b948970dc5",
        "colab": {
          "base_uri": "https://localhost:8080/"
        }
      },
      "execution_count": 30,
      "outputs": [
        {
          "output_type": "stream",
          "name": "stdout",
          "text": [
            "O ano em que os homens mais usaram a opção de crédito foi: 2018\n"
          ]
        }
      ]
    },
    {
      "cell_type": "markdown",
      "source": [
        "Qual opção de pagamento é mais utilizada em cada faixa etária?"
      ],
      "metadata": {
        "id": "ebnmp5KD4GPw"
      }
    },
    {
      "cell_type": "code",
      "source": [
        "import pandas as pd\n",
        "\n",
        "url = 'https://raw.githubusercontent.com/PatrickSFlores/ExerciciosGrowdev/main/compras.csv'\n",
        "\n",
        "df = pd.read_csv(url)\n",
        "\n",
        "faixas_etarias = {'Jovens': (18, 25),\n",
        "                  'Adultos': (26, 59),\n",
        "                  'Idosos': (60, float('inf'))\n",
        "                 }\n",
        "\n",
        "def calcular_faixa_etaria(idade):\n",
        "    for faixa, (inicio, fim) in faixas_etarias.items():\n",
        "        if inicio <= idade <= fim:\n",
        "            return faixa\n",
        "\n",
        "df['faixa_etaria'] = df['idade'].apply(calcular_faixa_etaria)\n",
        "\n",
        "contagem_pagamento_faixa = df.groupby(['faixa_etaria', 'pagamento']).size()\n",
        "\n",
        "opcao_mais_utilizada_por_faixa = contagem_pagamento_faixa.groupby(level=0).idxmax()\n",
        "\n",
        "for faixa, opcao in opcao_mais_utilizada_por_faixa.items():\n",
        "    print(f\"{faixa} - {opcao[1]}\")\n"
      ],
      "metadata": {
        "id": "NumXkC5p4H7s"
      },
      "execution_count": null,
      "outputs": []
    },
    {
      "cell_type": "markdown",
      "source": [
        "Qual o valor gasto em compras por jovens do ano de 2010 até 2015?"
      ],
      "metadata": {
        "id": "jRKhI6Dv4IQJ"
      }
    },
    {
      "cell_type": "code",
      "source": [
        "import pandas as pd\n",
        "\n",
        "url = 'https://raw.githubusercontent.com/PatrickSFlores/ExerciciosGrowdev/main/compras.csv'\n",
        "\n",
        "df = pd.read_csv(url)\n",
        "\n",
        "faixas_etarias = {'Jovens': (18, 25),\n",
        "                  'Adultos': (26, 59),\n",
        "                  'Idosos': (60, float('inf'))\n",
        "                 }\n",
        "\n",
        "def calcular_faixa_etaria(idade):\n",
        "    for faixa, (inicio, fim) in faixas_etarias.items():\n",
        "        if inicio <= idade <= fim:\n",
        "            return faixa\n",
        "\n",
        "df['faixa_etaria'] = df['idade'].apply(calcular_faixa_etaria)\n",
        "\n",
        "jovens_2010_2015 = df[(df['faixa_etaria'] == 'Jovens') & (df['ano'].between(2010, 2015))]\n",
        "\n",
        "valor_total_gasto = jovens_2010_2015['compra'].sum()\n",
        "\n",
        "print(f\"O valor total gasto foi de: R${valor_total_gasto:.2f}\")\n"
      ],
      "metadata": {
        "id": "6SXstcF54Itk"
      },
      "execution_count": null,
      "outputs": []
    }
  ]
}