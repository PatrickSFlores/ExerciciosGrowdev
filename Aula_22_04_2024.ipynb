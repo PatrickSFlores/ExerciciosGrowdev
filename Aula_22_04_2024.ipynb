{
  "cells": [
    {
      "cell_type": "markdown",
      "metadata": {
        "id": "view-in-github",
        "colab_type": "text"
      },
      "source": [
        "<a href=\"https://colab.research.google.com/github/PatrickSFlores/ExerciciosGrowdev/blob/main/Aula_22_04_2024.ipynb\" target=\"_parent\"><img src=\"https://colab.research.google.com/assets/colab-badge.svg\" alt=\"Open In Colab\"/></a>"
      ]
    },
    {
      "cell_type": "markdown",
      "metadata": {
        "id": "PAtrQ-vQ6doR"
      },
      "source": [
        "![Growdev](https://www.growdev.com.br/assets/images/logo_growdev.png)"
      ]
    },
    {
      "cell_type": "markdown",
      "metadata": {
        "id": "OYP_erfm6doU"
      },
      "source": [
        "![Formação Engenharia de Dados](https://d335luupugsy2.cloudfront.net/cms/files/524558/1707226566/$occu5m8t1op)"
      ]
    },
    {
      "cell_type": "markdown",
      "metadata": {
        "id": "a9ECxIaD6doV"
      },
      "source": [
        "# Tópicos da Aula de Hoje"
      ]
    },
    {
      "cell_type": "markdown",
      "metadata": {
        "id": "BU7-Tw886doV"
      },
      "source": [
        "- Laços de Repetição: While\n",
        "- Laços de Repetição: For e Range\n",
        "- Laços de Repetição: Índices com Enumerate\n",
        "- Exercícios Práticos"
      ]
    },
    {
      "cell_type": "markdown",
      "metadata": {
        "id": "zIUNca5N6doV"
      },
      "source": [
        "**Bora pra aula?**"
      ]
    },
    {
      "cell_type": "markdown",
      "metadata": {
        "id": "-I_aqF_O6doW"
      },
      "source": [
        "# Laços de Repetição: While"
      ]
    },
    {
      "cell_type": "markdown",
      "metadata": {
        "id": "vtHYvhaR6doW"
      },
      "source": [
        "E Se precisarmos repetir determinada tarefa? <br>\n",
        "Por exemplo: Precisamos avaliar se 1000 alunos foram aprovados, reprovados ou foram pra recuperação. Como você faria isso?"
      ]
    },
    {
      "cell_type": "markdown",
      "metadata": {
        "id": "y4e1C6ai6doW"
      },
      "source": [
        "O Loop `while` vai executar um comando baseado em uma condição. Se essa condição for verdadeira o loop roda uma iteração. No final de cada iteração, a condição é reavaliada. Caso ainda seja verdadeira, o loop continua, caso contrário ele é interrompido."
      ]
    },
    {
      "cell_type": "code",
      "execution_count": null,
      "metadata": {
        "id": "15RwC4z46doW"
      },
      "outputs": [],
      "source": [
        "# Exemplo de loop infinito\n",
        "i = 5\n",
        "while i < 6:\n",
        "    print('Hello World!')"
      ]
    },
    {
      "cell_type": "code",
      "execution_count": null,
      "metadata": {
        "id": "upY1MjHc6doY"
      },
      "outputs": [],
      "source": [
        "# Loop com condição de parada\n",
        "# Nesse caso, a cada iteração é somado +1 ao valor de i\n",
        "i = 5\n",
        "while i < 7:\n",
        "    print(i)\n",
        "\n",
        "    i = i+1"
      ]
    },
    {
      "cell_type": "markdown",
      "metadata": {
        "id": "TUT5gpQx6doY"
      },
      "source": [
        "## Exemplo"
      ]
    },
    {
      "cell_type": "code",
      "execution_count": null,
      "metadata": {
        "id": "oNtgbbJy6doY"
      },
      "outputs": [],
      "source": [
        "senha_correta = \"senha123\""
      ]
    },
    {
      "cell_type": "code",
      "execution_count": null,
      "metadata": {
        "id": "KOyc_s216doY"
      },
      "outputs": [],
      "source": [
        "senha = input(\"Digite sua senha: \")"
      ]
    },
    {
      "cell_type": "code",
      "execution_count": null,
      "metadata": {
        "id": "-PByNxm86doY"
      },
      "outputs": [],
      "source": [
        "while senha != senha_correta:\n",
        "    print(\"Senha incorreta. Tente novamente.\")\n",
        "    senha = input(\"Digite sua senha: \")\n",
        "\n",
        "print(\"Acesso concedido!\")"
      ]
    },
    {
      "cell_type": "markdown",
      "metadata": {
        "id": "k3RIUSUz6doY"
      },
      "source": [
        "# Laços de Repetição: For e Range"
      ]
    },
    {
      "cell_type": "markdown",
      "metadata": {
        "id": "zXvq-8Se6doZ"
      },
      "source": [
        "O loop For é utilizado quando queremos repetir uma operação em um número finito de vezes.\n",
        "\n",
        "No loop, uma variável definida percorre uma sequência. A cada iteração o valor da variável é atualizado com o próximo valor da lista."
      ]
    },
    {
      "cell_type": "code",
      "execution_count": null,
      "metadata": {
        "id": "YLKXwFz76doZ"
      },
      "outputs": [],
      "source": [
        "frutas = [\"maçã\", \"banana\", \"laranja\"]\n",
        "\n",
        "for fruta in frutas:\n",
        "    print(fruta)"
      ]
    },
    {
      "cell_type": "markdown",
      "metadata": {
        "id": "UZEQEDQR6doZ"
      },
      "source": [
        "## Função `range()`"
      ]
    },
    {
      "cell_type": "markdown",
      "metadata": {
        "id": "8-6xjtEi6doZ"
      },
      "source": [
        "A função `range()` gera uma sequência de números de acordo com os parâmetros especificados\n",
        "\n",
        "**Sintaxe**<br>\n",
        "`range(start, stop, step)`"
      ]
    },
    {
      "cell_type": "code",
      "execution_count": null,
      "metadata": {
        "id": "T1d3SsLK6doZ"
      },
      "outputs": [],
      "source": [
        "for i in range(0, 11, 2):\n",
        "    print(i)"
      ]
    },
    {
      "cell_type": "code",
      "execution_count": null,
      "metadata": {
        "id": "Qtc16S346doZ"
      },
      "outputs": [],
      "source": [
        "# Sequência de 5 números iniciando no 0 e com step 1\n",
        "for i in range(5):\n",
        "    print(i)"
      ]
    },
    {
      "cell_type": "markdown",
      "metadata": {
        "id": "7iLfO-Hc6doZ"
      },
      "source": [
        "## Exemplo"
      ]
    },
    {
      "cell_type": "code",
      "execution_count": null,
      "metadata": {
        "id": "R7xNxPG26doZ"
      },
      "outputs": [],
      "source": [
        "# Avaliando a aprovação de 5 alunos\n",
        "# Se média maior ou igual a 7, então ele é aprovado\n",
        "for i in range(5):\n",
        "    media_aluno = float(input('Informe a nota do aluno: '))\n",
        "    print(i)\n",
        "    if media_aluno >=7:\n",
        "        print('Aluno Aprovado!')\n",
        "    # Caso contrário, ele está reprovado\n",
        "    else:\n",
        "        print('Aluno Reprovado!')"
      ]
    },
    {
      "cell_type": "markdown",
      "metadata": {
        "id": "z0gIWOAR6doZ"
      },
      "source": [
        "# Laços de Repetição: Índices com Enumerate"
      ]
    },
    {
      "cell_type": "markdown",
      "metadata": {
        "id": "kN2EbxTx6doa"
      },
      "source": [
        "A função `enumerate()` retorna tanto o índice quanto o valor de cada elemento em uma sequência\n",
        "\n",
        "**Sintaxe**<br>\n",
        "`enumerate(elemento)`"
      ]
    },
    {
      "cell_type": "code",
      "execution_count": 16,
      "metadata": {
        "id": "ngATHMjf6doa",
        "outputId": "4fff9c5e-1d3e-45b8-ca4e-e22157b2ac85",
        "colab": {
          "base_uri": "https://localhost:8080/"
        }
      },
      "outputs": [
        {
          "output_type": "stream",
          "name": "stdout",
          "text": [
            "Índice: 0, Fruta: maçã\n",
            "Índice: 1, Fruta: banana\n",
            "Índice: 2, Fruta: laranja\n"
          ]
        }
      ],
      "source": [
        "frutas = [\"maçã\", \"banana\", \"laranja\"]\n",
        "for indice, fruta in enumerate(frutas):\n",
        "    print(f'Índice: {indice}, Fruta: {fruta}')"
      ]
    },
    {
      "cell_type": "code",
      "execution_count": 17,
      "metadata": {
        "id": "iYg2rC_B6doa",
        "outputId": "daa68e99-fd8e-40ba-b326-4c539778f63c",
        "colab": {
          "base_uri": "https://localhost:8080/"
        }
      },
      "outputs": [
        {
          "output_type": "stream",
          "name": "stdout",
          "text": [
            "Índice: 0, Caractere: P\n",
            "Índice: 1, Caractere: y\n",
            "Índice: 2, Caractere: t\n",
            "Índice: 3, Caractere: h\n",
            "Índice: 4, Caractere: o\n",
            "Índice: 5, Caractere: n\n"
          ]
        }
      ],
      "source": [
        "# Também podemos utilizar o enumerate com uma string\n",
        "texto = \"Python\"\n",
        "for indice, caractere in enumerate(texto):\n",
        "    print(f'Índice: {indice}, Caractere: {caractere}')"
      ]
    },
    {
      "cell_type": "markdown",
      "metadata": {
        "id": "vm9x32EV6doa"
      },
      "source": [
        "# Exercícios Práticos"
      ]
    },
    {
      "cell_type": "markdown",
      "metadata": {
        "id": "h4LyRGj96doa"
      },
      "source": [
        "**Escreva um programa que solicite ao usuário um número e imprima a tabuada desse número de 1 a 10**"
      ]
    },
    {
      "cell_type": "code",
      "execution_count": null,
      "metadata": {
        "id": "rStY3EZY6doa"
      },
      "outputs": [],
      "source": [
        "numero = int(input(\"Digite um número para ver sua tabuada: \"))\n",
        "for i in range(1, 11):\n",
        "    resultado = i * numero\n",
        "\n",
        "print(f'{numero} x {i} = {resultado}')"
      ]
    },
    {
      "cell_type": "markdown",
      "metadata": {
        "id": "Qo2Fb0z06doa"
      },
      "source": [
        "**Escreva um programa que calcule e imprima a soma dos números ímpares de 1 a 100**"
      ]
    },
    {
      "cell_type": "code",
      "execution_count": 34,
      "metadata": {
        "id": "CpTi66vp6doa",
        "outputId": "3be46fe2-18bc-4fba-88c3-6eeae930b2e2",
        "colab": {
          "base_uri": "https://localhost:8080/"
        }
      },
      "outputs": [
        {
          "output_type": "stream",
          "name": "stdout",
          "text": [
            "A soma dos números ímpares de 1 a 100 é: 2500\n"
          ]
        }
      ],
      "source": [
        "soma = 0\n",
        "\n",
        "for i in range(1, 101, 2):\n",
        "        soma += i\n",
        "\n",
        "print(f'A soma dos números ímpares de 1 a 100 é: {soma}')\n"
      ]
    },
    {
      "cell_type": "code",
      "source": [
        "jogadas = 0\n",
        "palpite = 0\n",
        "\n",
        "numero_secreto = int(input(\"Player 1, digite um número: \"))\n",
        "\n",
        "while palpite != numero_secreto:\n",
        "    palpite = int(input(\"Player 2, tente adivinhar o número: \"))\n",
        "    jogadas += 1\n",
        "\n",
        "    if palpite == numero_secreto:\n",
        "        print(f\"Adivinhou o número em {jogadas} jogadas.\")\n",
        "    else:\n",
        "        print(\"Errouuuu\")\n",
        "\n",
        "\n"
      ],
      "metadata": {
        "id": "oOtT9OrtRmRZ",
        "outputId": "8c5dcb47-b431-4dbe-d1c5-a14346b464f2",
        "colab": {
          "base_uri": "https://localhost:8080/"
        }
      },
      "execution_count": 52,
      "outputs": [
        {
          "output_type": "stream",
          "name": "stdout",
          "text": [
            "Player 1, digite um número: 1\n",
            "Player 2, tente adivinhar o número: 2\n",
            "Errouuuu\n",
            "Player 2, tente adivinhar o número: 3\n",
            "Errouuuu\n",
            "Player 2, tente adivinhar o número: 5\n",
            "Errouuuu\n",
            "Player 2, tente adivinhar o número: 1\n",
            "Adivinhou o número em 4 jogadas.\n"
          ]
        }
      ]
    }
  ],
  "metadata": {
    "kernelspec": {
      "display_name": "base",
      "language": "python",
      "name": "python3"
    },
    "language_info": {
      "codemirror_mode": {
        "name": "ipython",
        "version": 3
      },
      "file_extension": ".py",
      "mimetype": "text/x-python",
      "name": "python",
      "nbconvert_exporter": "python",
      "pygments_lexer": "ipython3",
      "version": "3.10.9"
    },
    "colab": {
      "provenance": [],
      "include_colab_link": true
    }
  },
  "nbformat": 4,
  "nbformat_minor": 0
}