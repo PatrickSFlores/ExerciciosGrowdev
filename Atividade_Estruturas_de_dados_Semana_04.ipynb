{
  "nbformat": 4,
  "nbformat_minor": 0,
  "metadata": {
    "colab": {
      "provenance": [],
      "include_colab_link": true
    },
    "kernelspec": {
      "name": "python3",
      "display_name": "Python 3"
    },
    "language_info": {
      "name": "python"
    }
  },
  "cells": [
    {
      "cell_type": "markdown",
      "metadata": {
        "id": "view-in-github",
        "colab_type": "text"
      },
      "source": [
        "<a href=\"https://colab.research.google.com/github/PatrickSFlores/ExerciciosGrowdev/blob/main/Atividade_Estruturas_de_dados_Semana_04.ipynb\" target=\"_parent\"><img src=\"https://colab.research.google.com/assets/colab-badge.svg\" alt=\"Open In Colab\"/></a>"
      ]
    },
    {
      "cell_type": "markdown",
      "source": [
        "![Growdev](https://www.growdev.com.br/assets/images/logo_growdev.png)"
      ],
      "metadata": {
        "id": "v8pFWwviib2C"
      }
    },
    {
      "cell_type": "markdown",
      "source": [
        "![Formação Engenharia de Dados](https://d335luupugsy2.cloudfront.net/cms/files/524558/1707226566/$occu5m8t1op)"
      ],
      "metadata": {
        "id": "6Tkl4_HxifXZ"
      }
    },
    {
      "cell_type": "markdown",
      "source": [
        "Este material tem como objetivo incentivar a prática dos conteúdos estudados até o momento, e a pesquisa. Tenha em consideração que o exercício foi pensado para incentivar a prática dos conteúdos estudados até então, porém aprender a pesquisar faz parte do processo de aprendizagem.\n",
        "\n",
        "Fique tranquilo, faça os exercícios com calma, e boa prática!\n"
      ],
      "metadata": {
        "id": "ty7Bzyl1i9bN"
      }
    },
    {
      "cell_type": "markdown",
      "source": [
        "#Orientações:\n",
        "\n",
        " - Faça uma copia deste arquivo\n",
        " - Após concluir os exercicios, suba seu exercicio para o GitHub e compartilhe o link no **google** Classroom\n"
      ],
      "metadata": {
        "id": "DU5-yCQwjx3V"
      }
    },
    {
      "cell_type": "markdown",
      "source": [
        "#Exercícios"
      ],
      "metadata": {
        "id": "EzT810tnlmfE"
      }
    },
    {
      "cell_type": "markdown",
      "source": [
        "#Listas"
      ],
      "metadata": {
        "id": "rDqBAimhSq_C"
      }
    },
    {
      "cell_type": "markdown",
      "source": [
        "Para esse exercicio você tera alguns desafios, separei eles em partes, vamos lá?\n",
        "\n",
        "1 - Crie uma lista com 100 números inteiros.\n",
        "- Pode ser uma sequência, ou caso queira se desafiar faça de números aleatorios.\n",
        "- Os dados não devem ser inseridos manualmente, utilize de um laço de repetição para adicionar os elementos a Lista.\n"
      ],
      "metadata": {
        "id": "GoGkz2n-SudC"
      }
    },
    {
      "cell_type": "code",
      "source": [
        "numeros_sequenciais = []\n",
        "\n",
        "for i in range(100):\n",
        "    numeros_sequenciais.append(i)\n",
        "\n",
        "print(numeros_sequenciais)"
      ],
      "metadata": {
        "id": "lLYBJr0KSuJW",
        "collapsed": true
      },
      "execution_count": null,
      "outputs": []
    },
    {
      "cell_type": "markdown",
      "source": [
        "2 - Calcule e exiba a soma de todos os números da lista."
      ],
      "metadata": {
        "id": "LQ0SVqxyVTD5"
      }
    },
    {
      "cell_type": "code",
      "source": [
        "numeros_sequenciais = []\n",
        "\n",
        "for i in range(100):\n",
        "    numeros_sequenciais.append(i)\n",
        "\n",
        "soma_sequencial = sum(numeros_sequenciais)\n",
        "\n",
        "print(\"Soma dos números sequenciais:\", soma_sequencial)"
      ],
      "metadata": {
        "id": "6HP8yU1bVS0F"
      },
      "execution_count": null,
      "outputs": []
    },
    {
      "cell_type": "markdown",
      "source": [
        "3 - Exiba o maior e o menor número da lista."
      ],
      "metadata": {
        "id": "HYQGLklTTPMx"
      }
    },
    {
      "cell_type": "code",
      "source": [
        "numeros_sequenciais = []\n",
        "\n",
        "for i in range(100):\n",
        "    numeros_sequenciais.append(i)\n",
        "\n",
        "maior_numero = max(numeros_sequenciais)\n",
        "\n",
        "menor_numero = min(numeros_sequenciais)\n",
        "\n",
        "print(\"Maior número na lista:\", maior_numero)\n",
        "print(\"Menor número na lista:\", menor_numero)"
      ],
      "metadata": {
        "id": "q_UZx7EETT6S"
      },
      "execution_count": null,
      "outputs": []
    },
    {
      "cell_type": "markdown",
      "source": [
        "4 - Pesquise se o número 77 esta presente na lista e exiba:\n",
        "- Quantas vezes esse número aparece na lista\n",
        "- Se aparece em qual ou quais posições(Indice)."
      ],
      "metadata": {
        "id": "1iU6ZtRhVN9i"
      }
    },
    {
      "cell_type": "code",
      "source": [
        "numeros_sequenciais = []\n",
        "\n",
        "for i in range(100):\n",
        "    numeros_sequenciais.append(i)\n",
        "\n",
        "numero_procurado = 77\n",
        "\n",
        "quantidade = numeros_sequenciais.count(numero_procurado)\n",
        "\n",
        "posicoes = [index for index, value in enumerate(numeros_sequenciais) if value == numero_procurado]\n",
        "\n",
        "print(f\"O número {numero_procurado} aparece {quantidade} vez(es) na lista.\")\n",
        "if quantidade > 0:\n",
        "    print(f\"O número {numero_procurado} aparece nas posições (índices): {posicoes}\")\n",
        "else:\n",
        "    print(f\"O número {numero_procurado} não está presente na lista.\")"
      ],
      "metadata": {
        "id": "OGVH4AoGWU2R"
      },
      "execution_count": null,
      "outputs": []
    },
    {
      "cell_type": "markdown",
      "source": [
        "5 - Ordene a lista de forma descendente e exiba."
      ],
      "metadata": {
        "id": "jrwycUMvWVSu"
      }
    },
    {
      "cell_type": "code",
      "source": [
        "numeros_sequenciais = []\n",
        "\n",
        "for i in range(100):\n",
        "    numeros_sequenciais.append(i)\n",
        "\n",
        "numeros_sequenciais.sort(reverse=True)\n",
        "\n",
        "print(numeros_sequenciais)"
      ],
      "metadata": {
        "id": "RvRpLp87e5CB"
      },
      "execution_count": null,
      "outputs": []
    },
    {
      "cell_type": "markdown",
      "source": [
        "## Tuplas:"
      ],
      "metadata": {
        "id": "Be68CsC2OftE"
      }
    },
    {
      "cell_type": "markdown",
      "source": [
        "Crie uma tupla com os dias da semana e peça para o usuário digitar um número de 1 a 7. Exiba o dia correspondente."
      ],
      "metadata": {
        "id": "SQzRrAmq1SnR"
      }
    },
    {
      "cell_type": "code",
      "source": [
        "dias_da_semana = (\"Domingo\", \"Segunda-feira\", \"Terça-feira\", \"Quarta-feira\", \"Quinta-feira\", \"Sexta-feira\", \"Sábado\")\n",
        "\n",
        "numero = int(input(\"Digite um número de 1 a 7: \"))\n",
        "\n",
        "if 1 <= numero <= 7:\n",
        "    dia_correspondente = dias_da_semana[numero - 1]\n",
        "    print(f\"O dia correspondente ao número {numero} é {dia_correspondente}.\")\n",
        "else:\n",
        "    print(\"Número inválido. Por favor, digite um número de 1 a 7.\")"
      ],
      "metadata": {
        "id": "7BqDEfeq1TZE"
      },
      "execution_count": null,
      "outputs": []
    },
    {
      "cell_type": "markdown",
      "source": [
        "Crie duas tuplas com números inteiros e crie uma terceira tupla com a concatenação das duas."
      ],
      "metadata": {
        "id": "J9LW9fru7hv6"
      }
    },
    {
      "cell_type": "code",
      "source": [
        "tupla1 = (1, 2, 3)\n",
        "tupla2 = (4, 5, 6)\n",
        "\n",
        "tupla_concatenada = tupla1 + tupla2\n",
        "\n",
        "print(\"Primeira tupla:\", tupla1)\n",
        "print(\"Segunda tupla:\", tupla2)\n",
        "print(\"Terceira tupla (concatenada):\", tupla_concatenada)"
      ],
      "metadata": {
        "id": "J2pBsS-f7idJ"
      },
      "execution_count": null,
      "outputs": []
    },
    {
      "cell_type": "markdown",
      "source": [
        " Crie uma tupla com alguns elementos e remova um elemento específico."
      ],
      "metadata": {
        "id": "ytDz_SXB7o-8"
      }
    },
    {
      "cell_type": "code",
      "source": [
        "tupla_original = (7, 39, 99)\n",
        "\n",
        "elemento_a_remover = 39\n",
        "\n",
        "tupla_sem_elemento = tuple(x for x in tupla_original if x != elemento_a_remover)\n",
        "\n",
        "print(\"Tupla original:\", tupla_original)\n",
        "print(\"Tupla sem o elemento específico:\", tupla_sem_elemento)"
      ],
      "metadata": {
        "id": "QvIAx6HP7pbh"
      },
      "execution_count": null,
      "outputs": []
    },
    {
      "cell_type": "markdown",
      "source": [
        "#Sets"
      ],
      "metadata": {
        "id": "v_JM0Has1pPL"
      }
    },
    {
      "cell_type": "markdown",
      "source": [
        "Crie dois sets com cores diferentes e exiba na tela a união dos dois sets."
      ],
      "metadata": {
        "id": "Urrv-Y291roJ"
      }
    },
    {
      "cell_type": "code",
      "source": [
        "set_cores1 = {\"vermelho\", \"azul\", \"verde\"}\n",
        "set_cores2 = {\"amarelo\", \"rosa\", \"azul\"}\n",
        "\n",
        "uniao_cores = set_cores1 | set_cores2\n",
        "\n",
        "print(\"Primeiro set de cores:\", set_cores1)\n",
        "print(\"Segundo set de cores:\", set_cores2)\n",
        "print(\"União dos dois sets de cores:\", uniao_cores)"
      ],
      "metadata": {
        "id": "FM4S-PEa1zSW"
      },
      "execution_count": null,
      "outputs": []
    },
    {
      "cell_type": "markdown",
      "source": [
        "Crie uma lista com alguns números repetidos. Converta essa lista em um set para remover as duplicatas e exiba o resultado."
      ],
      "metadata": {
        "id": "0q0tG4eG1zkL"
      }
    },
    {
      "cell_type": "code",
      "source": [
        "lista_numeros = [1, 2, 3, 4, 4, 5, 6, 6, 7, 8, 8, 9, 10]\n",
        "\n",
        "set_numeros = set(lista_numeros)\n",
        "\n",
        "print(\"Lista original:\", lista_numeros)\n",
        "print(\"Set sem duplicatas:\", set_numeros)"
      ],
      "metadata": {
        "id": "j4okoTWR2I_R"
      },
      "execution_count": null,
      "outputs": []
    },
    {
      "cell_type": "markdown",
      "source": [
        "#Dicionários:"
      ],
      "metadata": {
        "id": "4MCBgr-k1fvU"
      }
    },
    {
      "cell_type": "markdown",
      "source": [
        " Crie um dicionário com os nomes de algumas frutas e suas respectivas cores. Exiba na tela somente as frutas que são vermelhas."
      ],
      "metadata": {
        "id": "0A-DeyIMPh4g"
      }
    },
    {
      "cell_type": "code",
      "source": [
        "frutas_cores = {\"maçã\": \"vermelho\",\n",
        "                \"banana\": \"amarelo\",\n",
        "                \"uva\": \"roxo\",\n",
        "                \"pêssego\": \"laranja\",\n",
        "                \"morango\": \"vermelho\"}\n",
        "\n",
        "print(\"Frutas vermelhas:\")\n",
        "for fruta, cor in frutas_cores.items():\n",
        "    if cor == \"vermelho\":\n",
        "        print(fruta)"
      ],
      "metadata": {
        "id": "7jlD2DV4Pjom"
      },
      "execution_count": null,
      "outputs": []
    },
    {
      "cell_type": "markdown",
      "source": [
        "Crie um dicionário com o nome e a idade de três pessoas. Busque por  um nome e exiba a idade correspondente."
      ],
      "metadata": {
        "id": "q-XV14A-PmSa"
      }
    },
    {
      "cell_type": "code",
      "source": [
        "pessoas = {\"Patrick\": 33,\n",
        "           \"Ana\": 27,\n",
        "           \"Carol\": 35}\n",
        "\n",
        "nome = input(\"Digite o nome da pessoa para buscar sua idade: \")\n",
        "\n",
        "if nome in pessoas:\n",
        "    idade = pessoas[nome]\n",
        "    print(f\"A idade de {nome} é {idade} anos.\")\n",
        "else:\n",
        "    print(f\"Não foi encontrada nenhuma pessoa com o nome '{nome}'.\")"
      ],
      "metadata": {
        "id": "8rPH-lzG2gvh"
      },
      "execution_count": null,
      "outputs": []
    },
    {
      "cell_type": "markdown",
      "source": [
        "Crie um dicionário com os nomes e idades de algumas pessoas. Peça para o usuário digitar um nome e sua nova idade, e atualize o dicionário com essa informação."
      ],
      "metadata": {
        "id": "yEn6q_MP5SdW"
      }
    },
    {
      "cell_type": "code",
      "source": [
        "pessoas = {\"Patrick\": 33,\n",
        "           \"Ana\": 27,\n",
        "           \"Carol\": 35}\n",
        "\n",
        "nome = input(\"Digite o nome da pessoa: \")\n",
        "nova_idade = int(input(\"Digite a nova idade: \"))\n",
        "\n",
        "pessoas[nome] = nova_idade\n",
        "\n",
        "print(\"Dicionário de pessoas atualizado:\", pessoas)"
      ],
      "metadata": {
        "id": "H-RHnfMm5TcR"
      },
      "execution_count": null,
      "outputs": []
    },
    {
      "cell_type": "markdown",
      "source": [
        "Desafio Dicionários:\n",
        "\n",
        "Busque o código desenvolvido para o exercicio abaixo e altere o algoritmo para:\n",
        "\n",
        " - Salvar o resultado da eleição em um dícionário.\n",
        "\n",
        "\n",
        "Exemplo de saida do dicionario: {\"Candidato 1\": 2, \"Candidato 2\": 2, \"Voto Nulo\": 0, \"Voto Branco\": 1}\n",
        "\n",
        "\n",
        "Este exercicio foi realizado na lista da semana passada, exercicio de número 4:"
      ],
      "metadata": {
        "id": "Jeelh1Xw2hab"
      }
    },
    {
      "cell_type": "markdown",
      "source": [
        "\n",
        "\"Em uma eleição presidencial existem dois candidatos. Os votos são informados através de códigos. Os dados utilizados para a contagem dos votos obedecem à seguinte codificação:\n",
        "\n",
        "1,2 = voto para os respectivos candidatos\n",
        "\n",
        "3 = voto nulo\n",
        "\n",
        "4 = voto em branco;\n",
        "\n",
        "Elabore um programa que leia o código de votação de 5 eleitores. Calcule e escreva: total de votos para cada candidato total de votos nulos total de votos em branco\""
      ],
      "metadata": {
        "id": "cDnoQXk83e5B"
      }
    },
    {
      "cell_type": "code",
      "source": [
        "resultado_eleicao = {\"Candidato 1\": 0,\n",
        "                     \"Candidato 2\": 0,\n",
        "                     \"Voto Nulo\": 0,\n",
        "                     \"Voto Branco\": 0}\n",
        "\n",
        "for eleitor in range(5):\n",
        "    codigo_voto = int(input(f\"Informe o código de votação do eleitor {eleitor+1}: \"))\n",
        "\n",
        "    if codigo_voto == 1:\n",
        "        resultado_eleicao[\"Candidato 1\"] += 1\n",
        "    elif codigo_voto == 2:\n",
        "        resultado_eleicao[\"Candidato 2\"] += 1\n",
        "    elif codigo_voto == 3:\n",
        "        resultado_eleicao[\"Voto Nulo\"] += 1\n",
        "    elif codigo_voto == 4:\n",
        "        resultado_eleicao[\"Voto Branco\"] += 1\n",
        "    else:\n",
        "        print(\"Código de votação inválido. Por favor, insira um código válido.\")\n",
        "\n",
        "print(\"Resultado da apuração da eleição:\")\n",
        "for cargo, votos in resultado_eleicao.items():\n",
        "    print(f\"{cargo}: {votos}\")"
      ],
      "metadata": {
        "id": "CRlV5NE82kpE"
      },
      "execution_count": null,
      "outputs": []
    },
    {
      "cell_type": "markdown",
      "source": [
        "#Listas por Compreensão:"
      ],
      "metadata": {
        "id": "ffEKF4Kx5eQu"
      }
    },
    {
      "cell_type": "markdown",
      "source": [
        "Crie uma lista com os números Impares de 1 a 20 utilizando listas por compreensão."
      ],
      "metadata": {
        "id": "IrQvRhQM5oj6"
      }
    },
    {
      "cell_type": "code",
      "source": [
        "numeros_impares = [x for x in range(1, 21) if x % 2 != 0]\n",
        "\n",
        "print(\"Números ímpares de 1 a 20:\", numeros_impares)"
      ],
      "metadata": {
        "id": "lqgX2B6x5fLc"
      },
      "execution_count": null,
      "outputs": []
    },
    {
      "cell_type": "markdown",
      "source": [
        "Crie uma lista com as letras da frase \"Sou estudante de dados\", utilizando listas por compreensão."
      ],
      "metadata": {
        "id": "R2DKj08Z5tqJ"
      }
    },
    {
      "cell_type": "code",
      "source": [
        "frase = \"Sou estudante de dados\"\n",
        "letras = [letra for letra in frase if letra != ' ']\n",
        "\n",
        "print(\"Lista de letras da frase:\", letras)"
      ],
      "metadata": {
        "id": "22s-ixin3J1K"
      },
      "execution_count": null,
      "outputs": []
    }
  ]
}