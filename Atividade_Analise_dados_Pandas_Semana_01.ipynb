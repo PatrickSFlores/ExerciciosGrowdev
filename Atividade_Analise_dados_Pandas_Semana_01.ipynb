{
  "nbformat": 4,
  "nbformat_minor": 0,
  "metadata": {
    "colab": {
      "provenance": [],
      "include_colab_link": true
    },
    "kernelspec": {
      "name": "python3",
      "display_name": "Python 3"
    },
    "language_info": {
      "name": "python"
    }
  },
  "cells": [
    {
      "cell_type": "markdown",
      "metadata": {
        "id": "view-in-github",
        "colab_type": "text"
      },
      "source": [
        "<a href=\"https://colab.research.google.com/github/PatrickSFlores/ExerciciosGrowdev/blob/main/Atividade_Analise_dados_Pandas_Semana_01.ipynb\" target=\"_parent\"><img src=\"https://colab.research.google.com/assets/colab-badge.svg\" alt=\"Open In Colab\"/></a>"
      ]
    },
    {
      "cell_type": "markdown",
      "source": [
        "![Growdev](https://www.growdev.com.br/assets/images/logo_growdev.png)"
      ],
      "metadata": {
        "id": "v8pFWwviib2C"
      }
    },
    {
      "cell_type": "markdown",
      "source": [
        "![Formação Engenharia de Dados](https://d335luupugsy2.cloudfront.net/cms/files/524558/1707226566/$occu5m8t1op)"
      ],
      "metadata": {
        "id": "6Tkl4_HxifXZ"
      }
    },
    {
      "cell_type": "markdown",
      "source": [
        "Este material tem como objetivo incentivar a prática dos conteúdos estudados até o momento, e a pesquisa. Tenha em consideração que o exercício foi pensado para incentivar a prática dos conteúdos estudados até então, porém aprender a pesquisar faz parte do processo de aprendizagem.\n",
        "\n",
        "Fique tranquilo, faça os exercícios com calma, e boa prática!\n"
      ],
      "metadata": {
        "id": "ty7Bzyl1i9bN"
      }
    },
    {
      "cell_type": "markdown",
      "source": [
        "#Orientações:\n",
        "\n",
        " - Faça uma copia deste arquivo\n",
        " - Após concluir os exercicios, suba seu exercicio para o GitHub e compartilhe o link no **google** Classroom\n"
      ],
      "metadata": {
        "id": "DU5-yCQwjx3V"
      }
    },
    {
      "cell_type": "markdown",
      "source": [
        "\n",
        "Utilize o dataset contido nesse [link](https://www.kaggle.com/datasets/upadorprofzs/testes), e responda as questões abaixo.\n",
        "\n",
        "O dataset contém dados estatísticos do IBGE relativos à escolaridade, renda entre outros campos avaliados pela  PNAD (Pesquisa Nacional por Amostra de Domicílios).\n",
        "\n",
        "Os dados podem representar informações relevantes e reveladoras sobre a distribuição de renda e possivelmente alguns indicadores sobre tais situações encontradas a partir dos dados."
      ],
      "metadata": {
        "id": "jPJ5hyxa2cos"
      }
    },
    {
      "cell_type": "markdown",
      "source": [
        "#Exercícios"
      ],
      "metadata": {
        "id": "EzT810tnlmfE"
      }
    },
    {
      "cell_type": "markdown",
      "source": [
        "Qual a quantidade de pessoas nas seguintes faixas etárias\n",
        "- 20 anos ou menos\n",
        "- 21 a 35 anos\n",
        "- 36 a 50 anos\n",
        "- 51 a 65 anos\n",
        "- maiores de 65 anos\n",
        "\n"
      ],
      "metadata": {
        "id": "sYEv1vohLu34"
      }
    },
    {
      "cell_type": "code",
      "source": [
        "import pandas as pd\n",
        "from google.colab import files\n",
        "\n",
        "uploaded = files.upload()\n",
        "\n",
        "file_path = next(iter(uploaded))\n",
        "\n",
        "df = pd.read_csv(file_path)\n",
        "\n",
        "faixas = {'20 anos ou menos': df[df['Idade'] <= 20],\n",
        "          '21 a 35 anos': df[(df['Idade'] > 20) & (df['Idade'] <= 35)],\n",
        "          '36 a 50 anos': df[(df['Idade'] > 35) & (df['Idade'] <= 50)],\n",
        "          '51 a 65 anos': df[(df['Idade'] > 50) & (df['Idade'] <= 65)],\n",
        "          'Maiores de 65 anos': df[df['Idade'] > 65]}\n",
        "\n",
        "contagem = {faixa: len(grupo) for faixa, grupo in faixas.items()}\n",
        "\n",
        "for faixa, total in contagem.items():\n",
        "    print(f'{faixa}: {total} pessoas')"
      ],
      "metadata": {
        "id": "0drCl45SMELV",
        "outputId": "37d823d9-a082-4ede-c459-d120aab7134a",
        "colab": {
          "base_uri": "https://localhost:8080/",
          "height": 160
        }
      },
      "execution_count": 18,
      "outputs": [
        {
          "output_type": "display_data",
          "data": {
            "text/plain": [
              "<IPython.core.display.HTML object>"
            ],
            "text/html": [
              "\n",
              "     <input type=\"file\" id=\"files-7cad8b0e-d430-418c-b277-37fe87a7e6cb\" name=\"files[]\" multiple disabled\n",
              "        style=\"border:none\" />\n",
              "     <output id=\"result-7cad8b0e-d430-418c-b277-37fe87a7e6cb\">\n",
              "      Upload widget is only available when the cell has been executed in the\n",
              "      current browser session. Please rerun this cell to enable.\n",
              "      </output>\n",
              "      <script>// Copyright 2017 Google LLC\n",
              "//\n",
              "// Licensed under the Apache License, Version 2.0 (the \"License\");\n",
              "// you may not use this file except in compliance with the License.\n",
              "// You may obtain a copy of the License at\n",
              "//\n",
              "//      http://www.apache.org/licenses/LICENSE-2.0\n",
              "//\n",
              "// Unless required by applicable law or agreed to in writing, software\n",
              "// distributed under the License is distributed on an \"AS IS\" BASIS,\n",
              "// WITHOUT WARRANTIES OR CONDITIONS OF ANY KIND, either express or implied.\n",
              "// See the License for the specific language governing permissions and\n",
              "// limitations under the License.\n",
              "\n",
              "/**\n",
              " * @fileoverview Helpers for google.colab Python module.\n",
              " */\n",
              "(function(scope) {\n",
              "function span(text, styleAttributes = {}) {\n",
              "  const element = document.createElement('span');\n",
              "  element.textContent = text;\n",
              "  for (const key of Object.keys(styleAttributes)) {\n",
              "    element.style[key] = styleAttributes[key];\n",
              "  }\n",
              "  return element;\n",
              "}\n",
              "\n",
              "// Max number of bytes which will be uploaded at a time.\n",
              "const MAX_PAYLOAD_SIZE = 100 * 1024;\n",
              "\n",
              "function _uploadFiles(inputId, outputId) {\n",
              "  const steps = uploadFilesStep(inputId, outputId);\n",
              "  const outputElement = document.getElementById(outputId);\n",
              "  // Cache steps on the outputElement to make it available for the next call\n",
              "  // to uploadFilesContinue from Python.\n",
              "  outputElement.steps = steps;\n",
              "\n",
              "  return _uploadFilesContinue(outputId);\n",
              "}\n",
              "\n",
              "// This is roughly an async generator (not supported in the browser yet),\n",
              "// where there are multiple asynchronous steps and the Python side is going\n",
              "// to poll for completion of each step.\n",
              "// This uses a Promise to block the python side on completion of each step,\n",
              "// then passes the result of the previous step as the input to the next step.\n",
              "function _uploadFilesContinue(outputId) {\n",
              "  const outputElement = document.getElementById(outputId);\n",
              "  const steps = outputElement.steps;\n",
              "\n",
              "  const next = steps.next(outputElement.lastPromiseValue);\n",
              "  return Promise.resolve(next.value.promise).then((value) => {\n",
              "    // Cache the last promise value to make it available to the next\n",
              "    // step of the generator.\n",
              "    outputElement.lastPromiseValue = value;\n",
              "    return next.value.response;\n",
              "  });\n",
              "}\n",
              "\n",
              "/**\n",
              " * Generator function which is called between each async step of the upload\n",
              " * process.\n",
              " * @param {string} inputId Element ID of the input file picker element.\n",
              " * @param {string} outputId Element ID of the output display.\n",
              " * @return {!Iterable<!Object>} Iterable of next steps.\n",
              " */\n",
              "function* uploadFilesStep(inputId, outputId) {\n",
              "  const inputElement = document.getElementById(inputId);\n",
              "  inputElement.disabled = false;\n",
              "\n",
              "  const outputElement = document.getElementById(outputId);\n",
              "  outputElement.innerHTML = '';\n",
              "\n",
              "  const pickedPromise = new Promise((resolve) => {\n",
              "    inputElement.addEventListener('change', (e) => {\n",
              "      resolve(e.target.files);\n",
              "    });\n",
              "  });\n",
              "\n",
              "  const cancel = document.createElement('button');\n",
              "  inputElement.parentElement.appendChild(cancel);\n",
              "  cancel.textContent = 'Cancel upload';\n",
              "  const cancelPromise = new Promise((resolve) => {\n",
              "    cancel.onclick = () => {\n",
              "      resolve(null);\n",
              "    };\n",
              "  });\n",
              "\n",
              "  // Wait for the user to pick the files.\n",
              "  const files = yield {\n",
              "    promise: Promise.race([pickedPromise, cancelPromise]),\n",
              "    response: {\n",
              "      action: 'starting',\n",
              "    }\n",
              "  };\n",
              "\n",
              "  cancel.remove();\n",
              "\n",
              "  // Disable the input element since further picks are not allowed.\n",
              "  inputElement.disabled = true;\n",
              "\n",
              "  if (!files) {\n",
              "    return {\n",
              "      response: {\n",
              "        action: 'complete',\n",
              "      }\n",
              "    };\n",
              "  }\n",
              "\n",
              "  for (const file of files) {\n",
              "    const li = document.createElement('li');\n",
              "    li.append(span(file.name, {fontWeight: 'bold'}));\n",
              "    li.append(span(\n",
              "        `(${file.type || 'n/a'}) - ${file.size} bytes, ` +\n",
              "        `last modified: ${\n",
              "            file.lastModifiedDate ? file.lastModifiedDate.toLocaleDateString() :\n",
              "                                    'n/a'} - `));\n",
              "    const percent = span('0% done');\n",
              "    li.appendChild(percent);\n",
              "\n",
              "    outputElement.appendChild(li);\n",
              "\n",
              "    const fileDataPromise = new Promise((resolve) => {\n",
              "      const reader = new FileReader();\n",
              "      reader.onload = (e) => {\n",
              "        resolve(e.target.result);\n",
              "      };\n",
              "      reader.readAsArrayBuffer(file);\n",
              "    });\n",
              "    // Wait for the data to be ready.\n",
              "    let fileData = yield {\n",
              "      promise: fileDataPromise,\n",
              "      response: {\n",
              "        action: 'continue',\n",
              "      }\n",
              "    };\n",
              "\n",
              "    // Use a chunked sending to avoid message size limits. See b/62115660.\n",
              "    let position = 0;\n",
              "    do {\n",
              "      const length = Math.min(fileData.byteLength - position, MAX_PAYLOAD_SIZE);\n",
              "      const chunk = new Uint8Array(fileData, position, length);\n",
              "      position += length;\n",
              "\n",
              "      const base64 = btoa(String.fromCharCode.apply(null, chunk));\n",
              "      yield {\n",
              "        response: {\n",
              "          action: 'append',\n",
              "          file: file.name,\n",
              "          data: base64,\n",
              "        },\n",
              "      };\n",
              "\n",
              "      let percentDone = fileData.byteLength === 0 ?\n",
              "          100 :\n",
              "          Math.round((position / fileData.byteLength) * 100);\n",
              "      percent.textContent = `${percentDone}% done`;\n",
              "\n",
              "    } while (position < fileData.byteLength);\n",
              "  }\n",
              "\n",
              "  // All done.\n",
              "  yield {\n",
              "    response: {\n",
              "      action: 'complete',\n",
              "    }\n",
              "  };\n",
              "}\n",
              "\n",
              "scope.google = scope.google || {};\n",
              "scope.google.colab = scope.google.colab || {};\n",
              "scope.google.colab._files = {\n",
              "  _uploadFiles,\n",
              "  _uploadFilesContinue,\n",
              "};\n",
              "})(self);\n",
              "</script> "
            ]
          },
          "metadata": {}
        },
        {
          "output_type": "stream",
          "name": "stdout",
          "text": [
            "Saving dados.csv to dados (4).csv\n",
            "20 anos ou menos: 764 pessoas\n",
            "21 a 35 anos: 20654 pessoas\n",
            "36 a 50 anos: 31770 pessoas\n",
            "51 a 65 anos: 20006 pessoas\n",
            "Maiores de 65 anos: 3646 pessoas\n"
          ]
        }
      ]
    },
    {
      "cell_type": "markdown",
      "source": [
        "Qual é a média de escolaridade em cada faixa etária?\n"
      ],
      "metadata": {
        "id": "6y7X1dc-MFr1"
      }
    },
    {
      "cell_type": "code",
      "source": [
        "faixas = {'20 anos ou menos': df[df['Idade'] <= 20],\n",
        "          '21 a 35 anos': df[(df['Idade'] > 20) & (df['Idade'] <= 35)],\n",
        "          '36 a 50 anos': df[(df['Idade'] > 35) & (df['Idade'] <= 50)],\n",
        "          '51 a 65 anos': df[(df['Idade'] > 50) & (df['Idade'] <= 65)],\n",
        "          'Maiores de 65 anos': df[df['Idade'] > 65]}\n",
        "\n",
        "media_escolaridade = {faixa: grupo['Anos de Estudo'].mean() for faixa, grupo in faixas.items()}\n",
        "\n",
        "for faixa, media in media_escolaridade.items():\n",
        "    print(f'{faixa}: {format(media, \".2f\").replace(\".\", \",\")} anos')"
      ],
      "metadata": {
        "id": "6X6M5T7EMb-G",
        "outputId": "827243a5-207d-4998-e708-0a198e8c643b",
        "colab": {
          "base_uri": "https://localhost:8080/"
        }
      },
      "execution_count": 34,
      "outputs": [
        {
          "output_type": "stream",
          "name": "stdout",
          "text": [
            "20 anos ou menos: 9,70 anos\n",
            "21 a 35 anos: 10,81 anos\n",
            "36 a 50 anos: 9,76 anos\n",
            "51 a 65 anos: 8,27 anos\n",
            "Maiores de 65 anos: 5,84 anos\n"
          ]
        }
      ]
    },
    {
      "cell_type": "markdown",
      "source": [
        "Qual a UF que concentra a maior renda?\n"
      ],
      "metadata": {
        "id": "FgEq2x_mMicx"
      }
    },
    {
      "cell_type": "code",
      "source": [
        "uf_dict = {11: \"Rondônia\",\n",
        "           12: \"Acre\",\n",
        "           13: \"Amazonas\",\n",
        "           14: \"Roraima\",\n",
        "           15: \"Pará\",\n",
        "           16: \"Amapá\",\n",
        "           17: \"Tocantins\",\n",
        "           21: \"Maranhão\",\n",
        "           22: \"Piauí\",\n",
        "           23: \"Ceará\",\n",
        "           24: \"Rio Grande do Norte\",\n",
        "           25: \"Paraíba\",\n",
        "           26: \"Pernambuco\",\n",
        "           27: \"Alagoas\",\n",
        "           28: \"Sergipe\",\n",
        "           29: \"Bahia\",\n",
        "           31: \"Minas Gerais\",\n",
        "           32: \"Espírito Santo\",\n",
        "           33: \"Rio de Janeiro\",\n",
        "           35: \"São Paulo\",\n",
        "           41: \"Paraná\",\n",
        "           42: \"Santa Catarina\",\n",
        "           43: \"Rio Grande do Sul\",\n",
        "           50: \"Mato Grosso do Sul\",\n",
        "           51: \"Mato Grosso\",\n",
        "           52: \"Goiás\",\n",
        "           53: \"Distrito Federal\"}\n",
        "\n",
        "renda_por_uf = df.groupby('UF')['Renda'].sum()\n",
        "\n",
        "uf_maior_renda = renda_por_uf.idxmax()\n",
        "maior_renda = renda_por_uf.max()\n",
        "\n",
        "descricao_uf = uf_dict.get(uf_maior_renda, \"UF desconhecida\")\n",
        "\n",
        "print(f'A UF que concentra a maior renda é {descricao_uf} ({uf_maior_renda}) com uma renda total de {format(maior_renda, \".2f\").replace(\".\", \",\")}')"
      ],
      "metadata": {
        "id": "EFe-4pq8NGRf",
        "outputId": "634ac3a4-d6cd-4c24-e571-206d61cfe2f2",
        "colab": {
          "base_uri": "https://localhost:8080/"
        }
      },
      "execution_count": 31,
      "outputs": [
        {
          "output_type": "stream",
          "name": "stdout",
          "text": [
            "A UF que concentra a maior renda é São Paulo (35) com uma renda total de 22539969,00\n"
          ]
        }
      ]
    },
    {
      "cell_type": "markdown",
      "source": [
        "Qual a renda média de pessoas pretas e brancas de homens e mulheres?\n"
      ],
      "metadata": {
        "id": "VFXayO6DNJ3F"
      }
    },
    {
      "cell_type": "code",
      "source": [
        "sexo_dict = {0: 'Masculino', 1: 'Feminino'}\n",
        "cor_dict = {2: 'Branca',\n",
        "            4: 'Preta'}\n",
        "\n",
        "grupos = {\n",
        "    f'Homens {cor_dict[cor]}': df[(df['Sexo'] == 0) & (df['Cor'] == cor)]\n",
        "    for cor in cor_dict.keys()\n",
        "}\n",
        "grupos.update({\n",
        "    f'Mulheres {cor_dict[cor]}': df[(df['Sexo'] == 1) & (df['Cor'] == cor)]\n",
        "    for cor in cor_dict.keys()\n",
        "})\n",
        "\n",
        "renda_media = {grupo: dados['Renda'].mean() for grupo, dados in grupos.items()}\n",
        "\n",
        "for grupo, media in renda_media.items():\n",
        "    print(f'{grupo}: {format(media, \".2f\").replace(\".\", \",\")}')"
      ],
      "metadata": {
        "id": "JUO0B9kWNcCX",
        "outputId": "05f0d111-8f41-4482-9860-c0aee3e19ff4",
        "colab": {
          "base_uri": "https://localhost:8080/"
        }
      },
      "execution_count": 29,
      "outputs": [
        {
          "output_type": "stream",
          "name": "stdout",
          "text": [
            "Homens Branca: 2925,74\n",
            "Homens Preta: 1603,86\n",
            "Mulheres Branca: 2109,87\n",
            "Mulheres Preta: 1134,60\n"
          ]
        }
      ]
    },
    {
      "cell_type": "markdown",
      "source": [
        "Qual a renda média concentrada em cada faixa etária?\n",
        "\n",
        "\n"
      ],
      "metadata": {
        "id": "aqaMxrGMNhQv"
      }
    },
    {
      "cell_type": "code",
      "source": [
        "faixas = {'20 anos ou menos': df[df['Idade'] <= 20],\n",
        "          '21 a 35 anos': df[(df['Idade'] > 20) & (df['Idade'] <= 35)],\n",
        "          '36 a 50 anos': df[(df['Idade'] > 35) & (df['Idade'] <= 50)],\n",
        "          '51 a 65 anos': df[(df['Idade'] > 50) & (df['Idade'] <= 65)],\n",
        "          'Maiores de 65 anos': df[df['Idade'] > 65]}\n",
        "\n",
        "renda_media_faixa = {faixa: grupo['Renda'].mean() for faixa, grupo in faixas.items()}\n",
        "\n",
        "for faixa, media in renda_media_faixa.items():\n",
        "    print(f'{faixa}: {format(media, \".2f\").replace(\".\", \",\")}')"
      ],
      "metadata": {
        "id": "yoT1FXJSzKwj",
        "outputId": "5ef639f5-cf5d-45f8-f724-0f9fa2b22f25",
        "colab": {
          "base_uri": "https://localhost:8080/"
        }
      },
      "execution_count": 33,
      "outputs": [
        {
          "output_type": "stream",
          "name": "stdout",
          "text": [
            "20 anos ou menos: 985,35\n",
            "21 a 35 anos: 1748,29\n",
            "36 a 50 anos: 2113,76\n",
            "51 a 65 anos: 2150,20\n",
            "Maiores de 65 anos: 1831,23\n"
          ]
        }
      ]
    },
    {
      "cell_type": "markdown",
      "source": [
        "Qual a renda média nas faixas de anos de estudo abaixo?\n",
        "- 2 anos ou menos\n",
        "- 3 a 6 anos\n",
        "- 7 a 10 anos\n",
        "- 10 a 12 anos\n",
        "- 13 anos ou mais\n"
      ],
      "metadata": {
        "id": "jMjZzRxr29TF"
      }
    },
    {
      "cell_type": "code",
      "source": [
        "faixas_estudo = {'2 anos ou menos': df[df['Anos de Estudo'] <= 2],\n",
        "                 '3 a 6 anos': df[(df['Anos de Estudo'] > 2) & (df['Anos de Estudo'] <= 6)],\n",
        "                 '7 a 10 anos': df[(df['Anos de Estudo'] > 6) & (df['Anos de Estudo'] <= 10)],\n",
        "                 '10 a 12 anos': df[(df['Anos de Estudo'] > 10) & (df['Anos de Estudo'] <= 12)],\n",
        "                 '13 anos ou mais': df[df['Anos de Estudo'] > 12]}\n",
        "\n",
        "renda_media_estudo = {faixa: grupo['Renda'].mean() for faixa, grupo in faixas_estudo.items()}\n",
        "\n",
        "for faixa, media in renda_media_estudo.items():\n",
        "    print(f'{faixa}: {format(media, \".2f\").replace(\".\", \",\")}')"
      ],
      "metadata": {
        "id": "ZWpciLPN3Ckx",
        "outputId": "4651ae30-3a91-4247-8a3a-c0b31b47b70c",
        "colab": {
          "base_uri": "https://localhost:8080/"
        }
      },
      "execution_count": 37,
      "outputs": [
        {
          "output_type": "stream",
          "name": "stdout",
          "text": [
            "2 anos ou menos: 747,10\n",
            "3 a 6 anos: 1089,38\n",
            "7 a 10 anos: 1370,89\n",
            "10 a 12 anos: 1809,78\n",
            "13 anos ou mais: 4434,41\n"
          ]
        }
      ]
    },
    {
      "cell_type": "markdown",
      "source": [
        "Qual a escolaridade entre indígenas, para homens e mulheres?\n"
      ],
      "metadata": {
        "id": "fDxIIqqS3DHs"
      }
    },
    {
      "cell_type": "code",
      "source": [
        "indigenas = df[df['Cor'] == 0]\n",
        "\n",
        "escolaridade_media = {\n",
        "    'Homens Indígenas': indigenas[indigenas['Sexo'] == 0]['Anos de Estudo'].mean(),\n",
        "    'Mulheres Indígenas': indigenas[indigenas['Sexo'] == 1]['Anos de Estudo'].mean()\n",
        "}\n",
        "\n",
        "for grupo, media in escolaridade_media.items():\n",
        "    print(f'{grupo}: {format(media, \".2f\").replace(\".\", \",\")} anos de escolaridade em média')"
      ],
      "metadata": {
        "id": "M85a5qNt3E2y",
        "outputId": "ea6f8189-77a4-44f7-8a24-753dee31a106",
        "colab": {
          "base_uri": "https://localhost:8080/"
        }
      },
      "execution_count": 38,
      "outputs": [
        {
          "output_type": "stream",
          "name": "stdout",
          "text": [
            "Homens Indígenas: 7,88 anos de escolaridade em média\n",
            "Mulheres Indígenas: 9,11 anos de escolaridade em média\n"
          ]
        }
      ]
    },
    {
      "cell_type": "markdown",
      "source": [
        "Qual a média de anos de estudo entre brancos e negros?\n"
      ],
      "metadata": {
        "id": "hgqYfhU33FtF"
      }
    },
    {
      "cell_type": "code",
      "source": [
        "cor_brancos = [2]  # Branco\n",
        "cor_negros = [4]  # Preto e Pardo\n",
        "\n",
        "brancos = df[df['Cor'].isin(cor_brancos)]\n",
        "negros = df[df['Cor'].isin(cor_negros)]\n",
        "\n",
        "escolaridade_media = {\n",
        "    'Brancos': brancos['Anos de Estudo'].mean(),\n",
        "    'Negros': negros['Anos de Estudo'].mean()\n",
        "}\n",
        "\n",
        "for grupo, media in escolaridade_media.items():\n",
        "    print(f'{grupo}: {format(media, \".2f\").replace(\".\", \",\")} anos de escolaridade em média')"
      ],
      "metadata": {
        "id": "EK9X8wTZ3UdS",
        "outputId": "6549dfbf-afdb-4d99-cfda-62eb3e5ceeb7",
        "colab": {
          "base_uri": "https://localhost:8080/"
        }
      },
      "execution_count": 39,
      "outputs": [
        {
          "output_type": "stream",
          "name": "stdout",
          "text": [
            "Brancos: 10,49 anos de escolaridade em média\n",
            "Negros: 8,86 anos de escolaridade em média\n"
          ]
        }
      ]
    },
    {
      "cell_type": "markdown",
      "source": [
        "Qual a média de anos de estudo e de renda para mulheres brancas, e para mulheres negras?"
      ],
      "metadata": {
        "id": "_ZjroKKB3WBx"
      }
    },
    {
      "cell_type": "code",
      "source": [
        "cor_brancas = [2]  # Branco\n",
        "cor_negras = [4]  # Preto e Pardo\n",
        "\n",
        "mulheres_brancas = df[(df['Sexo'] == 1) & (df['Cor'].isin(cor_brancas))]\n",
        "mulheres_negras = df[(df['Sexo'] == 1) & (df['Cor'].isin(cor_negras))]\n",
        "\n",
        "media_brancas = {\n",
        "    'Anos de Estudo': mulheres_brancas['Anos de Estudo'].mean(),\n",
        "    'Renda': mulheres_brancas['Renda'].mean()\n",
        "}\n",
        "media_negras = {\n",
        "    'Anos de Estudo': mulheres_negras['Anos de Estudo'].mean(),\n",
        "    'Renda': mulheres_negras['Renda'].mean()\n",
        "}\n",
        "\n",
        "print(\"Mulheres Brancas:\")\n",
        "print(f\"  Média de anos de estudo: {format(media_brancas['Anos de Estudo'], '.2f').replace('.', ',')}\")\n",
        "print(f\"  Média de renda: {format(media_brancas['Renda'], '.2f').replace('.', ',')}\")\n",
        "\n",
        "print(\"\\nMulheres Negras:\")\n",
        "print(f\"  Média de anos de estudo: {format(media_negras['Anos de Estudo'], '.2f').replace('.', ',')}\")\n",
        "print(f\"  Média de renda: {format(media_negras['Renda'], '.2f').replace('.', ',')}\")"
      ],
      "metadata": {
        "id": "7dx7zW7M3Wau",
        "outputId": "5af4a0ce-2a4e-46f9-ab1d-5cf009d6491c",
        "colab": {
          "base_uri": "https://localhost:8080/"
        }
      },
      "execution_count": 41,
      "outputs": [
        {
          "output_type": "stream",
          "name": "stdout",
          "text": [
            "Mulheres Brancas:\n",
            "  Média de anos de estudo: 11,30\n",
            "  Média de renda: 2109,87\n",
            "\n",
            "Mulheres Negras:\n",
            "  Média de anos de estudo: 9,52\n",
            "  Média de renda: 1134,60\n"
          ]
        }
      ]
    },
    {
      "cell_type": "markdown",
      "source": [
        " Qual é a UF com maior média de escolaridade e qual a UF com maior média de renda?"
      ],
      "metadata": {
        "id": "sG2Kkkrd3X5V"
      }
    },
    {
      "cell_type": "code",
      "source": [
        "uf_dict = {11: \"Rondônia\",\n",
        "           12: \"Acre\",\n",
        "           13: \"Amazonas\",\n",
        "           14: \"Roraima\",\n",
        "           15: \"Pará\",\n",
        "           16: \"Amapá\",\n",
        "           17: \"Tocantins\",\n",
        "           21: \"Maranhão\",\n",
        "           22: \"Piauí\",\n",
        "           23: \"Ceará\",\n",
        "           24: \"Rio Grande do Norte\",\n",
        "           25: \"Paraíba\",\n",
        "           26: \"Pernambuco\",\n",
        "           27: \"Alagoas\",\n",
        "           28: \"Sergipe\",\n",
        "           29: \"Bahia\",\n",
        "           31: \"Minas Gerais\",\n",
        "           32: \"Espírito Santo\",\n",
        "           33: \"Rio de Janeiro\",\n",
        "           35: \"São Paulo\",\n",
        "           41: \"Paraná\",\n",
        "           42: \"Santa Catarina\",\n",
        "           43: \"Rio Grande do Sul\",\n",
        "           50: \"Mato Grosso do Sul\",\n",
        "           51: \"Mato Grosso\",\n",
        "           52: \"Goiás\",\n",
        "           53: \"Distrito Federal\"}\n",
        "\n",
        "media_escolaridade_por_uf = df.groupby('UF')['Anos de Estudo'].mean()\n",
        "media_renda_por_uf = df.groupby('UF')['Renda'].mean()\n",
        "\n",
        "uf_maior_media_escolaridade = media_escolaridade_por_uf.idxmax()\n",
        "maior_media_escolaridade = media_escolaridade_por_uf.max()\n",
        "\n",
        "uf_maior_media_renda = media_renda_por_uf.idxmax()\n",
        "maior_media_renda = media_renda_por_uf.max()\n",
        "\n",
        "descricao_uf_escolaridade = uf_dict.get(uf_maior_media_escolaridade, \"UF desconhecida\")\n",
        "descricao_uf_renda = uf_dict.get(uf_maior_media_renda, \"UF desconhecida\")\n",
        "\n",
        "print(f'A UF com a maior média de escolaridade é {descricao_uf_escolaridade} ({uf_maior_media_escolaridade}) com uma média de {format(maior_media_escolaridade, \".2f\").replace(\".\", \",\")} anos de estudo')\n",
        "print(f'A UF com a maior média de renda é {descricao_uf_renda} ({uf_maior_media_renda}) com uma renda média de {format(maior_media_renda, \".2f\").replace(\".\", \",\")}')"
      ],
      "metadata": {
        "id": "imgwaOGk3YNq",
        "outputId": "3519c2be-4103-44e1-a243-de9ef70ade74",
        "colab": {
          "base_uri": "https://localhost:8080/"
        }
      },
      "execution_count": 43,
      "outputs": [
        {
          "output_type": "stream",
          "name": "stdout",
          "text": [
            "A UF com a maior média de escolaridade é Distrito Federal (53) com uma média de 11,91 anos de estudo\n",
            "A UF com a maior média de renda é Distrito Federal (53) com uma renda média de 4241,95\n"
          ]
        }
      ]
    },
    {
      "cell_type": "markdown",
      "source": [
        "Elabore você uma pergunta sobre a base de dados e escreva o código para responder a pergunta."
      ],
      "metadata": {
        "id": "72Oy_JJ_3Z7F"
      }
    },
    {
      "cell_type": "code",
      "source": [
        "#Qual a UF com maior e com menor renda de mulheres negras?\n",
        "\n",
        "uf_dict = {11: \"Rondônia\",\n",
        "           12: \"Acre\",\n",
        "           13: \"Amazonas\",\n",
        "           14: \"Roraima\",\n",
        "           15: \"Pará\",\n",
        "           16: \"Amapá\",\n",
        "           17: \"Tocantins\",\n",
        "           21: \"Maranhão\",\n",
        "           22: \"Piauí\",\n",
        "           23: \"Ceará\",\n",
        "           24: \"Rio Grande do Norte\",\n",
        "           25: \"Paraíba\",\n",
        "           26: \"Pernambuco\",\n",
        "           27: \"Alagoas\",\n",
        "           28: \"Sergipe\",\n",
        "           29: \"Bahia\",\n",
        "           31: \"Minas Gerais\",\n",
        "           32: \"Espírito Santo\",\n",
        "           33: \"Rio de Janeiro\",\n",
        "           35: \"São Paulo\",\n",
        "           41: \"Paraná\",\n",
        "           42: \"Santa Catarina\",\n",
        "           43: \"Rio Grande do Sul\",\n",
        "           50: \"Mato Grosso do Sul\",\n",
        "           51: \"Mato Grosso\",\n",
        "           52: \"Goiás\",\n",
        "           53: \"Distrito Federal\"}\n",
        "\n",
        "cor_negra = [4]\n",
        "\n",
        "mulheres_negras = df[(df['Sexo'] == 1) & (df['Cor'].isin(cor_negra))]\n",
        "\n",
        "media_renda_mulheres_negras_por_uf = mulheres_negras.groupby('UF')['Renda'].mean()\n",
        "\n",
        "uf_maior_media_renda_negras = media_renda_mulheres_negras_por_uf.idxmax()\n",
        "maior_media_renda_negras = media_renda_mulheres_negras_por_uf.max()\n",
        "\n",
        "uf_menor_media_renda_negras = media_renda_mulheres_negras_por_uf.idxmin()\n",
        "menor_media_renda_negras = media_renda_mulheres_negras_por_uf.min()\n",
        "\n",
        "descricao_uf_maior_renda_negras = uf_dict.get(uf_maior_media_renda_negras, \"UF desconhecida\")\n",
        "descricao_uf_menor_renda_negras = uf_dict.get(uf_menor_media_renda_negras, \"UF desconhecida\")\n",
        "\n",
        "print(f'A UF com a maior média de renda de mulheres negras é {descricao_uf_maior_renda_negras} ({uf_maior_media_renda_negras}) com uma média de {format(maior_media_renda_negras, \".2f\").replace(\".\", \",\")}')\n",
        "print(f'A UF com a menor média de renda de mulheres negras é {descricao_uf_menor_renda_negras} ({uf_menor_media_renda_negras}) com uma média de {format(menor_media_renda_negras, \".2f\").replace(\".\", \",\")}')\n"
      ],
      "metadata": {
        "id": "YZFVy7UM3aPC",
        "outputId": "fd7c3ca8-a025-4671-e19c-2cd5284cfc20",
        "colab": {
          "base_uri": "https://localhost:8080/"
        }
      },
      "execution_count": 47,
      "outputs": [
        {
          "output_type": "stream",
          "name": "stdout",
          "text": [
            "A UF com a maior média de renda de mulheres negras é Distrito Federal (53) com uma média de 1950,80\n",
            "A UF com a menor média de renda de mulheres negras é Piauí (22) com uma média de 576,17\n"
          ]
        }
      ]
    },
    {
      "cell_type": "code",
      "source": [],
      "metadata": {
        "id": "16pqOSUw5K4A"
      },
      "execution_count": null,
      "outputs": []
    }
  ]
}