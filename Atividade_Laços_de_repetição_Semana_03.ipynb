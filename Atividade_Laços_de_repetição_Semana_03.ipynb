{
  "nbformat": 4,
  "nbformat_minor": 0,
  "metadata": {
    "colab": {
      "provenance": [],
      "include_colab_link": true
    },
    "kernelspec": {
      "name": "python3",
      "display_name": "Python 3"
    },
    "language_info": {
      "name": "python"
    }
  },
  "cells": [
    {
      "cell_type": "markdown",
      "metadata": {
        "id": "view-in-github",
        "colab_type": "text"
      },
      "source": [
        "<a href=\"https://colab.research.google.com/github/PatrickSFlores/ExerciciosGrowdev/blob/main/Atividade_La%C3%A7os_de_repeti%C3%A7%C3%A3o_Semana_03.ipynb\" target=\"_parent\"><img src=\"https://colab.research.google.com/assets/colab-badge.svg\" alt=\"Open In Colab\"/></a>"
      ]
    },
    {
      "cell_type": "markdown",
      "source": [
        "![Growdev](https://www.growdev.com.br/assets/images/logo_growdev.png)"
      ],
      "metadata": {
        "id": "v8pFWwviib2C"
      }
    },
    {
      "cell_type": "markdown",
      "source": [
        "![Formação Engenharia de Dados](https://d335luupugsy2.cloudfront.net/cms/files/524558/1707226566/$occu5m8t1op)"
      ],
      "metadata": {
        "id": "6Tkl4_HxifXZ"
      }
    },
    {
      "cell_type": "markdown",
      "source": [
        "Este material tem como objetivo incentivar a prática dos conteúdos estudados até o momento, e a pesquisa. Tenha em consideração que o exercício foi pensado para incentivar a prática dos conteúdos estudados até então, porém aprender a pesquisar faz parte do processo de aprendizagem.\n",
        "\n",
        "Fique tranquilo, faça os exercícios com calma, e boa prática!\n"
      ],
      "metadata": {
        "id": "ty7Bzyl1i9bN"
      }
    },
    {
      "cell_type": "markdown",
      "source": [
        "#Orientações:\n",
        "\n",
        " - Faça uma copia deste arquivo\n",
        " - Após concluir os exercicios, suba seu exercicio para o GitHub e compartilhe o link no **google** Classroom\n"
      ],
      "metadata": {
        "id": "DU5-yCQwjx3V"
      }
    },
    {
      "cell_type": "markdown",
      "source": [
        "#Exercícios"
      ],
      "metadata": {
        "id": "EzT810tnlmfE"
      }
    },
    {
      "cell_type": "markdown",
      "source": [
        "\n",
        "1- Escrever um programa que lê 5 valores para a, um de cada vez, e conta quantos destes valores são negativos, escrevendo esta informação."
      ],
      "metadata": {
        "id": "p62-CTXgvn5E"
      }
    },
    {
      "cell_type": "code",
      "source": [
        "cont = 0\n",
        "\n",
        "for i in range(5):\n",
        "    valor = float(input(\"Digite um valor: \"))\n",
        "    if valor < 0:\n",
        "        cont = cont + 1\n",
        "\n",
        "print(f'Valores negativos digitados: {cont}')"
      ],
      "metadata": {
        "id": "gU8NkXNYvmZv",
        "colab": {
          "base_uri": "https://localhost:8080/"
        },
        "outputId": "97c83e33-913b-4aa0-fde2-d7cf43dd8e8d"
      },
      "execution_count": 13,
      "outputs": [
        {
          "output_type": "stream",
          "name": "stdout",
          "text": [
            "Digite um valor: -1\n",
            "Digite um valor: -2\n",
            "Digite um valor: -3\n",
            "Digite um valor: 4\n",
            "Digite um valor: 5\n",
            "Valores negativos digitados: 3\n"
          ]
        }
      ]
    },
    {
      "cell_type": "markdown",
      "source": [],
      "metadata": {
        "id": "_ST1Z4wkjMzJ"
      }
    },
    {
      "cell_type": "markdown",
      "source": [
        "2 - A prefeitura de uma cidade fez uma pesquisa entre seus habitantes, coletando dados sobre o salário e número de filhos. A prefeitura deseja saber:\n",
        "\n",
        "a) média do salário da população;\n",
        "\n",
        "b) média do número de filhos;\n",
        "\n",
        "c) maior salário;\n",
        "\n",
        "d) percentual de pessoas com salário até R$2000,00.\n",
        "\n",
        "Escreva um programa que receba as informações necessárias de 5 pessoas conforme a descrição e responda às questões a, b, c e d anteriores.\n"
      ],
      "metadata": {
        "id": "59g_B9yRvqYS"
      }
    },
    {
      "cell_type": "code",
      "source": [
        "soma_salario = 0\n",
        "soma_filhos = 0\n",
        "maior_salario = 0\n",
        "cont_salario_ate_2000 = 0\n",
        "\n",
        "for i in range(5):\n",
        "    salario = float(input(\"Digite o salário: \"))\n",
        "    filhos = int(input(\"Digite o número de filhos: \"))\n",
        "\n",
        "    soma_salario += salario\n",
        "    soma_filhos += filhos\n",
        "\n",
        "    if salario > maior_salario:\n",
        "        maior_salario = salario\n",
        "\n",
        "    if salario <= 2000:\n",
        "        cont_salario_ate_2000 += 1\n",
        "\n",
        "media_salario = soma_salario / 5\n",
        "media_filhos = soma_filhos / 5\n",
        "\n",
        "percentual_salario_ate_2000 = (cont_salario_ate_2000 / 5) * 100\n",
        "\n",
        "print(f'Média do salário da população: R${media_salario:.2f}')\n",
        "print(f'Média do número de filhos: {media_filhos:.2f}')\n",
        "print(f'Maior salário: R${maior_salario:.2f}')\n",
        "print(f'Percentual de pessoas com salário até R$2000,00: {percentual_salario_ate_2000:.2f}%')"
      ],
      "metadata": {
        "id": "hz6OkEJBv52O"
      },
      "execution_count": null,
      "outputs": []
    },
    {
      "cell_type": "markdown",
      "source": [
        "3 - Chico tem 1,50 metro e cresce 2 centímetros por ano, enquanto Zé tem 1,10 metro e cresce 3 centímetros por ano. Construa um programa que calcule e imprima quantos anos serão necessários para que Zé seja maior que Chico."
      ],
      "metadata": {
        "id": "V-7kNtvtwDN1"
      }
    },
    {
      "cell_type": "code",
      "source": [
        "altura_Chico = 1.50\n",
        "altura_Ze = 1.10\n",
        "anos = 0\n",
        "\n",
        "while altura_Ze <= altura_Chico:\n",
        "    altura_Chico += 0.02\n",
        "    altura_Ze += 0.03\n",
        "    anos += 1\n",
        "\n",
        "print(f'Serão necessários {anos} anos para que Zé seja maior que Chico.')"
      ],
      "metadata": {
        "id": "Xlx4kqLpwE4L"
      },
      "execution_count": null,
      "outputs": []
    },
    {
      "cell_type": "markdown",
      "source": [
        "4 - Em uma eleição presidencial existem quatro candidatos. Os votos são informados através de códigos. Os dados utilizados para a contagem dos votos obedecem à seguinte codificação:  \n",
        "\n",
        "1,2 = voto para os respectivos candidatos\n",
        "\n",
        "3 = voto nulo\n",
        "\n",
        "4 = voto em branco;\n",
        "\n",
        "Elabore um programa que leia o código de votação de 5 candidatos. Calcule e escreva:\n",
        "total de votos para cada candidato\n",
        "total de votos nulos\n",
        "total de votos em branco\n"
      ],
      "metadata": {
        "id": "BU7x-lumwGRO"
      }
    },
    {
      "cell_type": "code",
      "source": [
        "votos_candidato_1 = 0\n",
        "votos_candidato_2 = 0\n",
        "votos_nulos = 0\n",
        "votos_brancos = 0\n",
        "\n",
        "for i in range(5):\n",
        "    voto = int(input(\"Digite o código de votação: 1 (Candidato 1), 2 (Candidato 2), 3 (voto nulo) ou 4 (voto branco)): \"))\n",
        "\n",
        "    if voto == 1:\n",
        "        votos_candidato_1 += 1\n",
        "    elif voto == 2:\n",
        "        votos_candidato_2 += 1\n",
        "    elif voto == 3:\n",
        "        votos_nulos += 1\n",
        "    elif voto == 4:\n",
        "        votos_brancos += 1\n",
        "    else:\n",
        "        print(\"Código inválido\")\n",
        "\n",
        "print(f'Total de votos para o candidato 1: {votos_candidato_1}')\n",
        "print(f'Total de votos para o candidato 2: {votos_candidato_2}')\n",
        "print(f'Total de votos nulos: {votos_nulos}')\n",
        "print(f'Total de votos em branco: {votos_brancos}')"
      ],
      "metadata": {
        "id": "tnOkAb44wQo5"
      },
      "execution_count": null,
      "outputs": []
    },
    {
      "cell_type": "markdown",
      "source": [
        "5 - Escreva um programa que receba o nome de 10 pessoas e para cada pessoa, o lugar para o qual ela já viajou. Sendo que existem 3 possibilidades:\n",
        "\n",
        "Rio de Janeiro\n",
        "\n",
        "Bahia\n",
        "\n",
        "Minas Gerais\n",
        "\n",
        "Após, informar qual foi o destino mais visitado e qual o menos visitado.\n"
      ],
      "metadata": {
        "id": "oNyazyHPwzlo"
      }
    },
    {
      "cell_type": "code",
      "source": [
        "rio_de_janeiro = 0\n",
        "bahia          = 0\n",
        "minas_gerais   = 0\n",
        "\n",
        "for i in range(1, 11):\n",
        "    nome = input(f'Digite o nome da pessoa {i}:')\n",
        "    destino = input(f'Digite o número do destino para o qual {nome} viajou = 1 - Rio de Janeiro, 2 - Bahia ou 3 - Minas Gerais: ')\n",
        "\n",
        "    if destino == '1':\n",
        "        rio_de_janeiro += 1\n",
        "    elif destino == '2':\n",
        "        bahia += 1\n",
        "    elif destino == '3':\n",
        "        minas_gerais += 1\n",
        "    else:\n",
        "        print(\"Destino inválido.\")\n",
        "\n",
        "destino_mais_visitado = 'Rio de Janeiro'\n",
        "qtd_mais_visitado = rio_de_janeiro\n",
        "\n",
        "if bahia > qtd_mais_visitado:\n",
        "    destino_mais_visitado = 'Bahia'\n",
        "    qtd_mais_visitado = bahia\n",
        "\n",
        "if minas_gerais > qtd_mais_visitado:\n",
        "    destino_mais_visitado = 'Minas Gerais'\n",
        "    qtd_mais_visitado = minas_gerais\n",
        "\n",
        "destino_menos_visitado = 'Rio de Janeiro'\n",
        "qtd_menos_visitado = rio_de_janeiro\n",
        "\n",
        "if bahia < qtd_menos_visitado:\n",
        "    destino_menos_visitado = 'Bahia'\n",
        "    qtd_menos_visitado = bahia\n",
        "\n",
        "if minas_gerais < qtd_menos_visitado:\n",
        "    destino_menos_visitado = 'Minas Gerais'\n",
        "    qtd_menos_visitado = minas_gerais\n",
        "\n",
        "print(f'O destino mais visitado foi: {destino_mais_visitado} ({qtd_mais_visitado} vezes)')\n",
        "print(f'O destino menos visitado foi: {destino_menos_visitado} ({qtd_menos_visitado} vezes)')"
      ],
      "metadata": {
        "id": "FzTr2EY1w2Ey"
      },
      "execution_count": null,
      "outputs": []
    },
    {
      "cell_type": "markdown",
      "source": [
        "6 -  A série de Fibonacci é formada pela sequência 1,1,2,3,5,8,13,21,34,55,... Faça um programa capaz de gerar a série até o n−ésimo termo."
      ],
      "metadata": {
        "id": "HVJPsqTcw95-"
      }
    },
    {
      "cell_type": "code",
      "source": [
        "n = int(input(\"Digite o valor de n para a série de Fibonacci: \"))\n",
        "\n",
        "if n <= 0:\n",
        "    print(\"Por favor, digite um valor inteiro positivo para n.\")\n",
        "else:\n",
        "\n",
        "    a, b = 1, 1\n",
        "    print(\"A série de Fibonacci até o {n}-ésimo termo é:\")\n",
        "    print(a, end=\" \")\n",
        "    if n > 1:\n",
        "        print(b, end=\" \")\n",
        "\n",
        "    for _ in range(2, n):\n",
        "        a, b = b, a + b\n",
        "        print(b, end=\" \")\n",
        "    print()"
      ],
      "metadata": {
        "id": "ZwgmpSgGw-v3"
      },
      "execution_count": null,
      "outputs": []
    },
    {
      "cell_type": "markdown",
      "source": [
        "7 - Escreva um programa que conte em ordem reversa, de 25 a zero."
      ],
      "metadata": {
        "id": "DaF7vXEWxB6R"
      }
    },
    {
      "cell_type": "code",
      "source": [
        "for i in range(25, -1, -1):\n",
        "    print(i)"
      ],
      "metadata": {
        "id": "2AYe_lX2xCdj"
      },
      "execution_count": null,
      "outputs": []
    },
    {
      "cell_type": "markdown",
      "source": [
        "8 - Crie um programa para que retorne o somatório de todos os números entre 1 e um valor fornecido pelo usuário. Por exemplo, se o usuário fornecer o número 4, o computador deverá calcular o somatório 1+ 2 + 3 + 4 = 10."
      ],
      "metadata": {
        "id": "Oc2yjIGqxF3h"
      }
    },
    {
      "cell_type": "code",
      "source": [
        "soma = 0\n",
        "\n",
        "n = int(input(\"Digite um número inteiro e positivo: \"))\n",
        "\n",
        "for i in range(1, n + 1):\n",
        "    soma += i\n",
        "\n",
        "print(f'O somatório de 1 até {n} é: {soma}')\n"
      ],
      "metadata": {
        "id": "m5gfIfomxGwe"
      },
      "execution_count": null,
      "outputs": []
    },
    {
      "cell_type": "markdown",
      "source": [
        "9 - Escreva um programa que leia a idade e salário de 10 pessoas. Informe em seguida:\n",
        "Qual é a média de idade entre as pessoas?\n",
        "Quantas pessoas há por faixa etária, considerando:\n",
        "jovens < 18\n",
        "18 <= adultos < 60\n",
        "idosos >= 60\n",
        "Em seguida, mostre qual é a faixa etária que acumula o maior salário.\n"
      ],
      "metadata": {
        "id": "5D368hETyJQh"
      }
    },
    {
      "cell_type": "code",
      "source": [
        "jovens = 0\n",
        "adultos = 0\n",
        "idosos = 0\n",
        "soma_idades = 0\n",
        "soma_salarios = 0\n",
        "maior_salario = 0\n",
        "idade_maior_salario = 0\n",
        "\n",
        "for i in range(1, 11):\n",
        "    print(f'Pessoa {i}:')\n",
        "    idade = int(input(\"Digite a idade: \"))\n",
        "    salario = float(input(\"Digite o salário: \"))\n",
        "\n",
        "    soma_idades += idade\n",
        "    soma_salarios += salario\n",
        "\n",
        "    if idade < 18:\n",
        "        jovens += 1\n",
        "    elif idade >= 18 and idade < 60:\n",
        "        adultos += 1\n",
        "    else:\n",
        "        idosos += 1\n",
        "\n",
        "    if salario > maior_salario:\n",
        "        maior_salario = salario\n",
        "        idade_maior_salario = idade\n",
        "\n",
        "media_idade = soma_idades / 10\n",
        "\n",
        "if idade_maior_salario < 18:\n",
        "    faixa_etaria_maior_salario = \"jovens\"\n",
        "elif idade_maior_salario >= 18 and idade_maior_salario < 60:\n",
        "    faixa_etaria_maior_salario = \"adultos\"\n",
        "else:\n",
        "    faixa_etaria_maior_salario = \"idosos\"\n",
        "\n",
        "print(f'Média de idade: {media_idade}')\n",
        "print(f'Pessoas jovens: {jovens}')\n",
        "print(f'Pessoas adultas: {adultos}')\n",
        "print(f'Pessoas idosas: {idosos}')\n",
        "print(f'A faixa etária com o maior salário acumulado é: {faixa_etaria_maior_salario} (R${maior_salario})')"
      ],
      "metadata": {
        "id": "zZsS7JHm0UY6"
      },
      "execution_count": null,
      "outputs": []
    },
    {
      "cell_type": "markdown",
      "source": [
        "10 - Crie uma calculadora simples que realiza operações de adição, subtração, multiplicação, divisão e exponenciação. O programa deve continuar pedindo operações até que o usuário escolha sair.Exemplo de saída:"
      ],
      "metadata": {
        "id": "L4xlYJzdhZyV"
      }
    },
    {
      "cell_type": "code",
      "source": [
        "opcao = '0'\n",
        "\n",
        "while opcao != '6':\n",
        "    print(\"Escolha a operação:\")\n",
        "    print(\"1. Adição\")\n",
        "    print(\"2. Subtração\")\n",
        "    print(\"3. Multiplicação\")\n",
        "    print(\"4. Divisão\")\n",
        "    print(\"5. Exponenciação\")\n",
        "    print(\"6. Sair\")\n",
        "\n",
        "    opcao = input(\"Digite o número da operação desejada: \")\n",
        "\n",
        "    if opcao == '1':\n",
        "        num1 = float(input(\"Digite o primeiro número: \"))\n",
        "        num2 = float(input(\"Digite o segundo número: \"))\n",
        "        resultado = num1 + num2\n",
        "        print(\"Resultado:\", resultado)\n",
        "    elif opcao == '2':\n",
        "        num1 = float(input(\"Digite o primeiro número: \"))\n",
        "        num2 = float(input(\"Digite o segundo número: \"))\n",
        "        resultado = num1 - num2\n",
        "        print(\"Resultado:\", resultado)\n",
        "    elif opcao == '3':\n",
        "        num1 = float(input(\"Digite o primeiro número: \"))\n",
        "        num2 = float(input(\"Digite o segundo número: \"))\n",
        "        resultado = num1 * num2\n",
        "        print(\"Resultado:\", resultado)\n",
        "    elif opcao == '4':\n",
        "        num1 = float(input(\"Digite o primeiro número: \"))\n",
        "        num2 = float(input(\"Digite o segundo número: \"))\n",
        "        if num2 == 0:\n",
        "            print(\"Não é possível dividir por zero.\")\n",
        "        else:\n",
        "            resultado = num1 / num2\n",
        "            print(\"Resultado:\", resultado)\n",
        "    elif opcao == '5':\n",
        "        num1 = float(input(\"Digite o número base: \"))\n",
        "        num2 = float(input(\"Digite o expoente: \"))\n",
        "        resultado = num1 ** num2\n",
        "        print(\"Resultado:\", resultado)\n",
        "    elif opcao != '6':\n",
        "        print(\"Opção inválida.\")\n",
        "\n",
        "print(\"Encerrando a calculadora.\")\n"
      ],
      "metadata": {
        "id": "t1GTUaOshazK"
      },
      "execution_count": null,
      "outputs": []
    },
    {
      "cell_type": "markdown",
      "source": [
        "11 - Crie um jogo em que o computador escolha um número aleatório entre 1 e 100, e o jogador tenta adivinhá-lo. O programa deve dar dicas se o número é maior ou menor do que o número digitado pelo jogador. O jogo continua até que o jogador acerte o número."
      ],
      "metadata": {
        "id": "TvOVLvpYhohk"
      }
    },
    {
      "cell_type": "markdown",
      "source": [
        "Exemplo de saída:\n",
        "\n",
        "Bem-vindo ao jogo de adivinhação!\n",
        "\n",
        "Tente adivinhar o número entre 1 e 100.\n",
        "\n",
        "Digite sua tentativa: 50\n",
        "\n",
        "O número é menor.\n",
        "\n",
        "Digite sua tentativa: 75\n",
        "\n",
        "O número é maior.\n",
        "\n",
        "Digite sua tentativa: 63\n",
        "\n",
        "O número é menor.\n",
        "\n",
        "Digite sua tentativa: 68\n",
        "\n",
        "Parabéns! Você acertou o número 68 em 4 tentativas!"
      ],
      "metadata": {
        "id": "GMjNhBcxo3ks"
      }
    },
    {
      "cell_type": "code",
      "source": [
        "import random\n",
        "\n",
        "print(\"Bem-vindo ao jogo de adivinhação!\")\n",
        "print(\"Tente adivinhar o número entre 1 e 100.\")\n",
        "\n",
        "numero_aleatorio = random.randint(1, 100)\n",
        "tentativas = 0\n",
        "\n",
        "while tentativas == 0 or tentativa != numero_aleatorio:\n",
        "    if tentativas > 0:\n",
        "        if tentativa < numero_aleatorio:\n",
        "            print(\"O número é maior.\")\n",
        "        else:\n",
        "            print(\"O número é menor.\")\n",
        "\n",
        "    tentativa = int(input(\"Digite sua tentativa: \"))\n",
        "    tentativas += 1\n",
        "\n",
        "print(f'Ufaaaa, Parabéns! Você acertou o número {numero_aleatorio} em {tentativas} tentativas!')\n"
      ],
      "metadata": {
        "id": "wD7WVTzdh3Tf"
      },
      "execution_count": null,
      "outputs": []
    },
    {
      "cell_type": "markdown",
      "source": [
        "12 - Escreva um programa que calcula o valor de um investimento após um número específico de anos, considerando juros compostos. O usuário deve fornecer o principal (valor inicial do investimento), a taxa de juros anual (em porcentagem) e o número de anos.\n",
        "\n",
        "A fórmula para calcular o valor de um investimento após n anos com juros compostos é:\n",
        "\n",
        "A=P×(1+r)^n\n",
        "\n",
        "\n",
        "Onde:\n",
        "\n",
        "\n",
        "A é o valor do investimento após n anos,\n",
        "\n",
        "P é o principal (valor inicial do investimento),\n",
        "\n",
        "r é a taxa de juros anual (em decimal), e\n",
        "\n",
        "n é o número de anos."
      ],
      "metadata": {
        "id": "528JJZodmafY"
      }
    },
    {
      "cell_type": "markdown",
      "source": [
        "\n",
        "Exemplo de saída:\n",
        "\n",
        "Digite o principal (R$): 1000\n",
        "\n",
        "Digite a taxa de juros anual (%): 5\n",
        "\n",
        "Digite o número de anos: 10\n",
        "\n",
        "O valor do investimento após 10 anos é: R$ 1628.89"
      ],
      "metadata": {
        "id": "-6opTpcXoxNw"
      }
    },
    {
      "cell_type": "code",
      "source": [
        "print(\"Calculadora de Juros Compostos\")\n",
        "\n",
        "principal = float(input(\"Digite o principal (R$): \"))\n",
        "taxa_juros_anual = float(input(\"Digite a taxa de juros anual (%): \"))\n",
        "num_anos = int(input(\"Digite o número de anos: \"))\n",
        "\n",
        "taxa_juros_decimal = taxa_juros_anual / 100\n",
        "\n",
        "valor_investimento = principal * (1 + taxa_juros_decimal) ** num_anos\n",
        "\n",
        "valor_investimento_formatado = \"{:,.2f}\".format(valor_investimento).replace(',', 'v').replace('.', ',').replace('v', '.')\n",
        "\n",
        "print(f'O valor do investimento após {num_anos} anos é: R$ {valor_investimento_formatado:}')\n"
      ],
      "metadata": {
        "id": "3XHAThk1oFIT"
      },
      "execution_count": null,
      "outputs": []
    }
  ]
}